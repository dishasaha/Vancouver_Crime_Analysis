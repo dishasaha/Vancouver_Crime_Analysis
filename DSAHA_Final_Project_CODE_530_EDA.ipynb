{
 "cells": [
  {
   "cell_type": "code",
   "execution_count": 167,
   "metadata": {},
   "outputs": [],
   "source": [
    "from __future__ import print_function, division\n",
    "\n",
    "import pandas as pd\n",
    "import numpy as np\n",
    "import statsmodels.formula.api as smf\n",
    "import math\n",
    "import thinkplot\n",
    "import thinkstats2\n",
    "import regression\n",
    "import timeseries\n",
    "import matplotlib.pyplot as plt\n",
    "from scipy.stats import ttest_ind\n",
    "import statsmodels.formula.api as smf"
   ]
  },
  {
   "cell_type": "code",
   "execution_count": 168,
   "metadata": {},
   "outputs": [
    {
     "data": {
      "text/html": [
       "<div>\n",
       "<style scoped>\n",
       "    .dataframe tbody tr th:only-of-type {\n",
       "        vertical-align: middle;\n",
       "    }\n",
       "\n",
       "    .dataframe tbody tr th {\n",
       "        vertical-align: top;\n",
       "    }\n",
       "\n",
       "    .dataframe thead th {\n",
       "        text-align: right;\n",
       "    }\n",
       "</style>\n",
       "<table border=\"1\" class=\"dataframe\">\n",
       "  <thead>\n",
       "    <tr style=\"text-align: right;\">\n",
       "      <th></th>\n",
       "      <th>TYPE</th>\n",
       "      <th>YEAR</th>\n",
       "      <th>MONTH</th>\n",
       "      <th>DAY</th>\n",
       "      <th>HOUR</th>\n",
       "      <th>MINUTE</th>\n",
       "      <th>HUNDRED_BLOCK</th>\n",
       "      <th>NEIGHBOURHOOD</th>\n",
       "      <th>X</th>\n",
       "      <th>Y</th>\n",
       "    </tr>\n",
       "  </thead>\n",
       "  <tbody>\n",
       "    <tr>\n",
       "      <td>0</td>\n",
       "      <td>Break and Enter Commercial</td>\n",
       "      <td>2012</td>\n",
       "      <td>12</td>\n",
       "      <td>14</td>\n",
       "      <td>8</td>\n",
       "      <td>52</td>\n",
       "      <td>NaN</td>\n",
       "      <td>Oakridge</td>\n",
       "      <td>491285.000000</td>\n",
       "      <td>5.453433e+06</td>\n",
       "    </tr>\n",
       "    <tr>\n",
       "      <td>1</td>\n",
       "      <td>Break and Enter Commercial</td>\n",
       "      <td>2019</td>\n",
       "      <td>3</td>\n",
       "      <td>7</td>\n",
       "      <td>2</td>\n",
       "      <td>6</td>\n",
       "      <td>10XX SITKA SQ</td>\n",
       "      <td>Fairview</td>\n",
       "      <td>490612.964805</td>\n",
       "      <td>5.457110e+06</td>\n",
       "    </tr>\n",
       "    <tr>\n",
       "      <td>2</td>\n",
       "      <td>Break and Enter Commercial</td>\n",
       "      <td>2019</td>\n",
       "      <td>8</td>\n",
       "      <td>27</td>\n",
       "      <td>4</td>\n",
       "      <td>12</td>\n",
       "      <td>10XX ALBERNI ST</td>\n",
       "      <td>West End</td>\n",
       "      <td>491007.779775</td>\n",
       "      <td>5.459174e+06</td>\n",
       "    </tr>\n",
       "    <tr>\n",
       "      <td>3</td>\n",
       "      <td>Break and Enter Commercial</td>\n",
       "      <td>2014</td>\n",
       "      <td>8</td>\n",
       "      <td>8</td>\n",
       "      <td>5</td>\n",
       "      <td>13</td>\n",
       "      <td>10XX ALBERNI ST</td>\n",
       "      <td>West End</td>\n",
       "      <td>491015.943352</td>\n",
       "      <td>5.459166e+06</td>\n",
       "    </tr>\n",
       "    <tr>\n",
       "      <td>4</td>\n",
       "      <td>Break and Enter Commercial</td>\n",
       "      <td>2005</td>\n",
       "      <td>11</td>\n",
       "      <td>14</td>\n",
       "      <td>3</td>\n",
       "      <td>9</td>\n",
       "      <td>10XX ALBERNI ST</td>\n",
       "      <td>West End</td>\n",
       "      <td>491021.385727</td>\n",
       "      <td>5.459161e+06</td>\n",
       "    </tr>\n",
       "  </tbody>\n",
       "</table>\n",
       "</div>"
      ],
      "text/plain": [
       "                         TYPE  YEAR  MONTH  DAY  HOUR  MINUTE  \\\n",
       "0  Break and Enter Commercial  2012     12   14     8      52   \n",
       "1  Break and Enter Commercial  2019      3    7     2       6   \n",
       "2  Break and Enter Commercial  2019      8   27     4      12   \n",
       "3  Break and Enter Commercial  2014      8    8     5      13   \n",
       "4  Break and Enter Commercial  2005     11   14     3       9   \n",
       "\n",
       "     HUNDRED_BLOCK NEIGHBOURHOOD              X             Y  \n",
       "0              NaN      Oakridge  491285.000000  5.453433e+06  \n",
       "1    10XX SITKA SQ      Fairview  490612.964805  5.457110e+06  \n",
       "2  10XX ALBERNI ST      West End  491007.779775  5.459174e+06  \n",
       "3  10XX ALBERNI ST      West End  491015.943352  5.459166e+06  \n",
       "4  10XX ALBERNI ST      West End  491021.385727  5.459161e+06  "
      ]
     },
     "execution_count": 168,
     "metadata": {},
     "output_type": "execute_result"
    }
   ],
   "source": [
    "crime_data=pd.read_csv(\"crime_records.csv\",encoding='ISO-8859-1' )#opening the crime data file\n",
    "crime_data.head()#checking out the first few rows of the dataframe"
   ]
  },
  {
   "cell_type": "code",
   "execution_count": 169,
   "metadata": {},
   "outputs": [
    {
     "data": {
      "text/html": [
       "<div>\n",
       "<style scoped>\n",
       "    .dataframe tbody tr th:only-of-type {\n",
       "        vertical-align: middle;\n",
       "    }\n",
       "\n",
       "    .dataframe tbody tr th {\n",
       "        vertical-align: top;\n",
       "    }\n",
       "\n",
       "    .dataframe thead th {\n",
       "        text-align: right;\n",
       "    }\n",
       "</style>\n",
       "<table border=\"1\" class=\"dataframe\">\n",
       "  <thead>\n",
       "    <tr style=\"text-align: right;\">\n",
       "      <th></th>\n",
       "      <th>TYPE</th>\n",
       "      <th>YEAR</th>\n",
       "      <th>MONTH</th>\n",
       "      <th>DAY</th>\n",
       "      <th>HOUR</th>\n",
       "      <th>MINUTE</th>\n",
       "      <th>HUNDRED_BLOCK</th>\n",
       "      <th>NEIGHBOURHOOD</th>\n",
       "      <th>X</th>\n",
       "      <th>Y</th>\n",
       "    </tr>\n",
       "  </thead>\n",
       "  <tbody>\n",
       "    <tr>\n",
       "      <td>0</td>\n",
       "      <td>Break and Enter Commercial</td>\n",
       "      <td>2012</td>\n",
       "      <td>12</td>\n",
       "      <td>14</td>\n",
       "      <td>8</td>\n",
       "      <td>52</td>\n",
       "      <td>NaN</td>\n",
       "      <td>Oakridge</td>\n",
       "      <td>491285.000000</td>\n",
       "      <td>5.453433e+06</td>\n",
       "    </tr>\n",
       "    <tr>\n",
       "      <td>1</td>\n",
       "      <td>Break and Enter Commercial</td>\n",
       "      <td>2019</td>\n",
       "      <td>3</td>\n",
       "      <td>7</td>\n",
       "      <td>2</td>\n",
       "      <td>6</td>\n",
       "      <td>10XX SITKA SQ</td>\n",
       "      <td>Fairview</td>\n",
       "      <td>490612.964805</td>\n",
       "      <td>5.457110e+06</td>\n",
       "    </tr>\n",
       "    <tr>\n",
       "      <td>2</td>\n",
       "      <td>Break and Enter Commercial</td>\n",
       "      <td>2019</td>\n",
       "      <td>8</td>\n",
       "      <td>27</td>\n",
       "      <td>4</td>\n",
       "      <td>12</td>\n",
       "      <td>10XX ALBERNI ST</td>\n",
       "      <td>West End</td>\n",
       "      <td>491007.779775</td>\n",
       "      <td>5.459174e+06</td>\n",
       "    </tr>\n",
       "    <tr>\n",
       "      <td>3</td>\n",
       "      <td>Break and Enter Commercial</td>\n",
       "      <td>2014</td>\n",
       "      <td>8</td>\n",
       "      <td>8</td>\n",
       "      <td>5</td>\n",
       "      <td>13</td>\n",
       "      <td>10XX ALBERNI ST</td>\n",
       "      <td>West End</td>\n",
       "      <td>491015.943352</td>\n",
       "      <td>5.459166e+06</td>\n",
       "    </tr>\n",
       "    <tr>\n",
       "      <td>4</td>\n",
       "      <td>Break and Enter Commercial</td>\n",
       "      <td>2005</td>\n",
       "      <td>11</td>\n",
       "      <td>14</td>\n",
       "      <td>3</td>\n",
       "      <td>9</td>\n",
       "      <td>10XX ALBERNI ST</td>\n",
       "      <td>West End</td>\n",
       "      <td>491021.385727</td>\n",
       "      <td>5.459161e+06</td>\n",
       "    </tr>\n",
       "    <tr>\n",
       "      <td>...</td>\n",
       "      <td>...</td>\n",
       "      <td>...</td>\n",
       "      <td>...</td>\n",
       "      <td>...</td>\n",
       "      <td>...</td>\n",
       "      <td>...</td>\n",
       "      <td>...</td>\n",
       "      <td>...</td>\n",
       "      <td>...</td>\n",
       "      <td>...</td>\n",
       "    </tr>\n",
       "    <tr>\n",
       "      <td>624033</td>\n",
       "      <td>Vehicle Collision or Pedestrian Struck (with I...</td>\n",
       "      <td>2013</td>\n",
       "      <td>12</td>\n",
       "      <td>23</td>\n",
       "      <td>13</td>\n",
       "      <td>31</td>\n",
       "      <td>YUKON ST / W BROADWAY AVE</td>\n",
       "      <td>Mount Pleasant</td>\n",
       "      <td>491786.000000</td>\n",
       "      <td>5.456719e+06</td>\n",
       "    </tr>\n",
       "    <tr>\n",
       "      <td>624034</td>\n",
       "      <td>Vehicle Collision or Pedestrian Struck (with I...</td>\n",
       "      <td>2014</td>\n",
       "      <td>3</td>\n",
       "      <td>11</td>\n",
       "      <td>9</td>\n",
       "      <td>20</td>\n",
       "      <td>YUKON ST / W BROADWAY AVE</td>\n",
       "      <td>Mount Pleasant</td>\n",
       "      <td>491786.000000</td>\n",
       "      <td>5.456719e+06</td>\n",
       "    </tr>\n",
       "    <tr>\n",
       "      <td>624035</td>\n",
       "      <td>Vehicle Collision or Pedestrian Struck (with I...</td>\n",
       "      <td>2018</td>\n",
       "      <td>8</td>\n",
       "      <td>4</td>\n",
       "      <td>16</td>\n",
       "      <td>22</td>\n",
       "      <td>YUKON ST / W BROADWAY AVE</td>\n",
       "      <td>Mount Pleasant</td>\n",
       "      <td>491786.000000</td>\n",
       "      <td>5.456719e+06</td>\n",
       "    </tr>\n",
       "    <tr>\n",
       "      <td>624036</td>\n",
       "      <td>Vehicle Collision or Pedestrian Struck (with I...</td>\n",
       "      <td>2003</td>\n",
       "      <td>9</td>\n",
       "      <td>1</td>\n",
       "      <td>20</td>\n",
       "      <td>45</td>\n",
       "      <td>YUKON ST / W KING EDWARD AVE</td>\n",
       "      <td>Riley Park</td>\n",
       "      <td>491786.000000</td>\n",
       "      <td>5.455143e+06</td>\n",
       "    </tr>\n",
       "    <tr>\n",
       "      <td>624037</td>\n",
       "      <td>Vehicle Collision or Pedestrian Struck (with I...</td>\n",
       "      <td>2005</td>\n",
       "      <td>7</td>\n",
       "      <td>20</td>\n",
       "      <td>18</td>\n",
       "      <td>57</td>\n",
       "      <td>YUKON ST / W KING EDWARD AVE</td>\n",
       "      <td>Riley Park</td>\n",
       "      <td>491786.000000</td>\n",
       "      <td>5.455143e+06</td>\n",
       "    </tr>\n",
       "  </tbody>\n",
       "</table>\n",
       "<p>624038 rows × 10 columns</p>\n",
       "</div>"
      ],
      "text/plain": [
       "                                                     TYPE  YEAR  MONTH  DAY  \\\n",
       "0                              Break and Enter Commercial  2012     12   14   \n",
       "1                              Break and Enter Commercial  2019      3    7   \n",
       "2                              Break and Enter Commercial  2019      8   27   \n",
       "3                              Break and Enter Commercial  2014      8    8   \n",
       "4                              Break and Enter Commercial  2005     11   14   \n",
       "...                                                   ...   ...    ...  ...   \n",
       "624033  Vehicle Collision or Pedestrian Struck (with I...  2013     12   23   \n",
       "624034  Vehicle Collision or Pedestrian Struck (with I...  2014      3   11   \n",
       "624035  Vehicle Collision or Pedestrian Struck (with I...  2018      8    4   \n",
       "624036  Vehicle Collision or Pedestrian Struck (with I...  2003      9    1   \n",
       "624037  Vehicle Collision or Pedestrian Struck (with I...  2005      7   20   \n",
       "\n",
       "        HOUR  MINUTE                 HUNDRED_BLOCK   NEIGHBOURHOOD  \\\n",
       "0          8      52                           NaN        Oakridge   \n",
       "1          2       6                 10XX SITKA SQ        Fairview   \n",
       "2          4      12               10XX ALBERNI ST        West End   \n",
       "3          5      13               10XX ALBERNI ST        West End   \n",
       "4          3       9               10XX ALBERNI ST        West End   \n",
       "...      ...     ...                           ...             ...   \n",
       "624033    13      31     YUKON ST / W BROADWAY AVE  Mount Pleasant   \n",
       "624034     9      20     YUKON ST / W BROADWAY AVE  Mount Pleasant   \n",
       "624035    16      22     YUKON ST / W BROADWAY AVE  Mount Pleasant   \n",
       "624036    20      45  YUKON ST / W KING EDWARD AVE      Riley Park   \n",
       "624037    18      57  YUKON ST / W KING EDWARD AVE      Riley Park   \n",
       "\n",
       "                    X             Y  \n",
       "0       491285.000000  5.453433e+06  \n",
       "1       490612.964805  5.457110e+06  \n",
       "2       491007.779775  5.459174e+06  \n",
       "3       491015.943352  5.459166e+06  \n",
       "4       491021.385727  5.459161e+06  \n",
       "...               ...           ...  \n",
       "624033  491786.000000  5.456719e+06  \n",
       "624034  491786.000000  5.456719e+06  \n",
       "624035  491786.000000  5.456719e+06  \n",
       "624036  491786.000000  5.455143e+06  \n",
       "624037  491786.000000  5.455143e+06  \n",
       "\n",
       "[624038 rows x 10 columns]"
      ]
     },
     "execution_count": 169,
     "metadata": {},
     "output_type": "execute_result"
    }
   ],
   "source": [
    "crime_data #data shows to be 624038 rows x 10 columns. I also see that I will have some missing values. "
   ]
  },
  {
   "cell_type": "code",
   "execution_count": 170,
   "metadata": {},
   "outputs": [
    {
     "data": {
      "text/plain": [
       "TYPE              object\n",
       "YEAR               int64\n",
       "MONTH              int64\n",
       "DAY                int64\n",
       "HOUR               int64\n",
       "MINUTE             int64\n",
       "HUNDRED_BLOCK     object\n",
       "NEIGHBOURHOOD     object\n",
       "X                float64\n",
       "Y                float64\n",
       "dtype: object"
      ]
     },
     "execution_count": 170,
     "metadata": {},
     "output_type": "execute_result"
    }
   ],
   "source": [
    "crime_data.dtypes #looking at the data types for each columns "
   ]
  },
  {
   "cell_type": "code",
   "execution_count": 171,
   "metadata": {},
   "outputs": [
    {
     "data": {
      "text/plain": [
       "TYPE                 0\n",
       "YEAR                 0\n",
       "MONTH                0\n",
       "DAY                  0\n",
       "HOUR                 0\n",
       "MINUTE               0\n",
       "HUNDRED_BLOCK       13\n",
       "NEIGHBOURHOOD    64962\n",
       "X                  120\n",
       "Y                  120\n",
       "dtype: int64"
      ]
     },
     "execution_count": 171,
     "metadata": {},
     "output_type": "execute_result"
    }
   ],
   "source": [
    "crime_data.isnull().sum() #looking to see the count of NAN in each column"
   ]
  },
  {
   "cell_type": "code",
   "execution_count": 172,
   "metadata": {},
   "outputs": [
    {
     "name": "stdout",
     "output_type": "stream",
     "text": [
      "NEIGHBOURHOOD    10.4099\n",
      "Y                 0.0192\n",
      "X                 0.0192\n",
      "HUNDRED_BLOCK     0.0021\n",
      "MINUTE            0.0000\n",
      "HOUR              0.0000\n",
      "DAY               0.0000\n",
      "MONTH             0.0000\n",
      "YEAR              0.0000\n",
      "TYPE              0.0000\n",
      "dtype: float64\n"
     ]
    }
   ],
   "source": [
    "def missing(dff): #creating a function to see the missing values in percentage\n",
    "    print (round((dff.isnull().sum() * 100/ len(dff)),4).sort_values(ascending=False))\n",
    "missing(crime_data)"
   ]
  },
  {
   "cell_type": "markdown",
   "metadata": {},
   "source": [
    "Looking at the percentages Neighbourhood data is missing the most by 10.4%, followed by the X and Y coordinates around 0.02% for both, and hundred block missing by mere 0.002%. I am going to go forward with my analysis due to having data in the columns that I need."
   ]
  },
  {
   "cell_type": "code",
   "execution_count": 173,
   "metadata": {
    "scrolled": true
   },
   "outputs": [
    {
     "data": {
      "image/png": "[encoded data removed]",
      "text/plain": [
       "<Figure size 432x288 with 1 Axes>"
      ]
     },
     "metadata": {
      "needs_background": "light"
     },
     "output_type": "display_data"
    }
   ],
   "source": [
    "Types = crime_data['TYPE']\n",
    "plt.figure(figsize=(6,4))\n",
    "plt.hist(Types, rwidth=0.75, align='left')\n",
    "plt.title('Incident Occurence by Crime type in Vancouver, CA')\n",
    "plt.xlabel('Type of Crime')\n",
    "plt.xticks(rotation='vertical')\n",
    "plt.ylabel('Incident Occurence')\n",
    "plt.legend((\"Crime Type\",),loc=1, prop={'size': 10})\n",
    "plt.grid(axis='y', alpha=0.75)"
   ]
  },
  {
   "cell_type": "code",
   "execution_count": 174,
   "metadata": {},
   "outputs": [
    {
     "name": "stdout",
     "output_type": "stream",
     "text": [
      "Theft from Vehicle                                        209609\n",
      "Mischief                                                   83970\n",
      "Break and Enter Residential/Other                          66378\n",
      "Other Theft                                                64611\n",
      "Offence Against a Person                                   62078\n",
      "Theft of Vehicle                                           41528\n",
      "Break and Enter Commercial                                 38916\n",
      "Theft of Bicycle                                           31112\n",
      "Vehicle Collision or Pedestrian Struck (with Injury)       25294\n",
      "Vehicle Collision or Pedestrian Struck (with Fatality)       290\n",
      "Homicide                                                     252\n",
      "Name: TYPE, dtype: int64\n"
     ]
    }
   ],
   "source": [
    "crime_typeinfo = crime_data[\"TYPE\"].value_counts()\n",
    "print(crime_typeinfo)#looking at the overall dataset, Theft from Vehicle is the most frequent type of crime."
   ]
  },
  {
   "cell_type": "code",
   "execution_count": 175,
   "metadata": {},
   "outputs": [
    {
     "data": {
      "text/plain": [
       "Text(0, 0.5, 'Crime Occurance')"
      ]
     },
     "execution_count": 175,
     "metadata": {},
     "output_type": "execute_result"
    },
    {
     "data": {
      "image/png": "[encoded data removed]",
      "text/plain": [
       "<Figure size 576x432 with 1 Axes>"
      ]
     },
     "metadata": {
      "needs_background": "light"
     },
     "output_type": "display_data"
    }
   ],
   "source": [
    "crime_year = crime_data[\"YEAR\"].value_counts()\n",
    "crime_year.sort_index(inplace=True)\n",
    "year_plot = crime_year.plot.bar(title='Crime Occurance by Year', figsize=(8,6))\n",
    "year_plot.set_xlabel('Year',size=20)\n",
    "year_plot.set_ylabel('Crime Occurance',size=20)"
   ]
  },
  {
   "cell_type": "code",
   "execution_count": 176,
   "metadata": {},
   "outputs": [
    {
     "data": {
      "text/plain": [
       "Text(0, 0.5, 'Crime Occurance')"
      ]
     },
     "execution_count": 176,
     "metadata": {},
     "output_type": "execute_result"
    },
    {
     "data": {
      "image/png": "[encoded data removed]",
      "text/plain": [
       "<Figure size 576x432 with 1 Axes>"
      ]
     },
     "metadata": {
      "needs_background": "light"
     },
     "output_type": "display_data"
    }
   ],
   "source": [
    "crime_month = crime_data[\"MONTH\"].value_counts() #Crime counts by month for all years 2003-2019\n",
    "crime_month.sort_index(inplace=True)\n",
    "month_plot = crime_month.plot.bar(title='Crime Occurance by Month', figsize=(8,6))\n",
    "month_plot.set_xlabel('Month',size=20)\n",
    "month_plot.set_ylabel('Crime Occurance',size=20)"
   ]
  },
  {
   "cell_type": "code",
   "execution_count": 177,
   "metadata": {},
   "outputs": [
    {
     "name": "stdout",
     "output_type": "stream",
     "text": [
      "8     56623\n",
      "10    54813\n",
      "7     54522\n",
      "9     54216\n",
      "5     53573\n",
      "6     53389\n",
      "1     52082\n",
      "3     51579\n",
      "4     50477\n",
      "11    50094\n",
      "12    46738\n",
      "2     45932\n",
      "Name: MONTH, dtype: int64\n"
     ]
    }
   ],
   "source": [
    "crime_monthinfo = crime_data[\"MONTH\"].value_counts()\n",
    "print(crime_monthinfo)#looking at the overall dataset, august had the highest number of crimes"
   ]
  },
  {
   "cell_type": "code",
   "execution_count": 178,
   "metadata": {},
   "outputs": [
    {
     "data": {
      "text/plain": [
       "Text(0, 0.5, 'Crime Occurance')"
      ]
     },
     "execution_count": 178,
     "metadata": {},
     "output_type": "execute_result"
    },
    {
     "data": {
      "image/png": "[encoded data removed]",
      "text/plain": [
       "<Figure size 576x432 with 1 Axes>"
      ]
     },
     "metadata": {
      "needs_background": "light"
     },
     "output_type": "display_data"
    }
   ],
   "source": [
    "crime_2003 = crime_data.loc[crime_data['YEAR'] == 2003] #Filtering down data to highest crime year 2003\n",
    "crime_month_2003 = crime_2003[\"MONTH\"].value_counts()\n",
    "crime_month_2003.sort_index(inplace=True)\n",
    "month_plot = crime_month_2003.plot.bar(title='Crime Occurance by Month in 2003', figsize=(8,6))\n",
    "month_plot.set_xlabel('Month',size=20)\n",
    "month_plot.set_ylabel('Crime Occurance',size=20)"
   ]
  },
  {
   "cell_type": "code",
   "execution_count": 179,
   "metadata": {},
   "outputs": [
    {
     "data": {
      "text/plain": [
       "Text(0, 0.5, 'Crime Occurance')"
      ]
     },
     "execution_count": 179,
     "metadata": {},
     "output_type": "execute_result"
    },
    {
     "data": {
      "image/png": "[encoded data removed]",
      "text/plain": [
       "<Figure size 576x432 with 1 Axes>"
      ]
     },
     "metadata": {
      "needs_background": "light"
     },
     "output_type": "display_data"
    }
   ],
   "source": [
    "crime_days = crime_2003.loc[crime_2003['MONTH'] == 5] #filtering down to month 5, May 2003\n",
    "crime_day = crime_days[\"DAY\"].value_counts()\n",
    "crime_day.sort_index(inplace=True)\n",
    "crime_day_plot = crime_day.plot.bar(title='Crime Occurance by Day in May 2003', figsize=(8,6))\n",
    "crime_day_plot.set_xlabel('Day',size=20)\n",
    "crime_day_plot.set_ylabel('Crime Occurance',size=20)"
   ]
  },
  {
   "cell_type": "code",
   "execution_count": 180,
   "metadata": {},
   "outputs": [
    {
     "data": {
      "text/plain": [
       "Text(0, 0.5, 'Crime Occurance')"
      ]
     },
     "execution_count": 180,
     "metadata": {},
     "output_type": "execute_result"
    },
    {
     "data": {
      "image/png": "[encoded data removed]",
      "text/plain": [
       "<Figure size 576x432 with 1 Axes>"
      ]
     },
     "metadata": {
      "needs_background": "light"
     },
     "output_type": "display_data"
    }
   ],
   "source": [
    "crime_hours = crime_days.loc[crime_days['HOUR'] != 0] #taking out 0 because it is an outlier\n",
    "crime_hours = crime_hours.loc[crime_data['DAY'] == 16] #Filtering down to highest crime day May 16 2003\n",
    "crime_hour = crime_hours[\"HOUR\"].value_counts()\n",
    "crime_hour.sort_index(inplace=True)\n",
    "crime_hour_plot = crime_hour.plot.bar(title='Crime Occurance by Hour on May 16 2003', figsize=(8,6))\n",
    "crime_hour_plot.set_xlabel('Hour',size=20)\n",
    "crime_hour_plot.set_ylabel('Crime Occurance',size=20)"
   ]
  },
  {
   "cell_type": "code",
   "execution_count": 181,
   "metadata": {},
   "outputs": [
    {
     "name": "stdout",
     "output_type": "stream",
     "text": [
      "Central Business District    137513\n",
      "West End                      48722\n",
      "Fairview                      36723\n",
      "Mount Pleasant                36378\n",
      "Grandview-Woodland            31599\n",
      "Renfrew-Collingwood           31097\n",
      "Kitsilano                     30670\n",
      "Kensington-Cedar Cottage      28418\n",
      "Strathcona                    25809\n",
      "Hastings-Sunrise              21272\n",
      "Sunset                        19686\n",
      "Marpole                       15137\n",
      "Riley Park                    14663\n",
      "Victoria-Fraserview           12310\n",
      "Killarney                     11847\n",
      "Oakridge                       9281\n",
      "Dunbar-Southlands              8792\n",
      "Kerrisdale                     8470\n",
      "Arbutus Ridge                  6819\n",
      "West Point Grey                6761\n",
      "Shaughnessy                    6321\n",
      "South Cambie                   6043\n",
      "Stanley Park                   4174\n",
      "Musqueam                        571\n",
      "Name: NEIGHBOURHOOD, dtype: int64\n"
     ]
    }
   ],
   "source": [
    "crime_neighborhood = crime_data[\"NEIGHBOURHOOD\"].value_counts()\n",
    "print(crime_neighborhood)"
   ]
  },
  {
   "cell_type": "code",
   "execution_count": 182,
   "metadata": {},
   "outputs": [
    {
     "name": "stdout",
     "output_type": "stream",
     "text": [
      "Central Business District    137513\n",
      "West End                      48722\n",
      "Fairview                      36723\n",
      "Mount Pleasant                36378\n",
      "Grandview-Woodland            31599\n",
      "Renfrew-Collingwood           31097\n",
      "Kitsilano                     30670\n",
      "Kensington-Cedar Cottage      28418\n",
      "Strathcona                    25809\n",
      "Hastings-Sunrise              21272\n",
      "Name: NEIGHBOURHOOD, dtype: int64\n"
     ]
    },
    {
     "data": {
      "text/plain": [
       "Text(0, 0.5, 'Crime Occurance')"
      ]
     },
     "execution_count": 182,
     "metadata": {},
     "output_type": "execute_result"
    },
    {
     "data": {
      "image/png": "[encoded data removed]",
      "text/plain": [
       "<Figure size 576x432 with 1 Axes>"
      ]
     },
     "metadata": {
      "needs_background": "light"
     },
     "output_type": "display_data"
    }
   ],
   "source": [
    "crime_neighborhood_top = crime_neighborhood.iloc[:10] #filtering down to top 10 neighboorhoods by crime occurance for all years\n",
    "print(crime_neighborhood_top)\n",
    "top_neighborhood_plot = crime_neighborhood_top.plot.bar(title='Top 10 Neighborhoods by Crime Occurance', figsize=(8,6))\n",
    "top_neighborhood_plot.set_xlabel('Neighborhood',size=20)\n",
    "top_neighborhood_plot.set_ylabel('Crime Occurance',size=20)"
   ]
  },
  {
   "cell_type": "code",
   "execution_count": 183,
   "metadata": {},
   "outputs": [
    {
     "name": "stdout",
     "output_type": "stream",
     "text": [
      "The average crimes commited in a year is  36708.117647058825\n",
      "The variance of crimes commited in a year is  44251482.36029411\n",
      "The upper and lower quartiles of crimes commited in a year is  0.25    32179.0\n",
      "0.75    38077.0\n",
      "Name: YEAR, dtype: float64\n",
      "The mode for crimes commited in a year is\n",
      " 2003    49993\n",
      "2004    49301\n",
      "2005    44692\n",
      "2006    42321\n",
      "2007    37695\n",
      "2008    35414\n",
      "2009    32179\n",
      "2010    29704\n",
      "2011    28587\n",
      "2012    29240\n",
      "2013    29093\n",
      "2014    32673\n",
      "2015    34354\n",
      "2016    37845\n",
      "2017    36998\n",
      "2018    38077\n",
      "2019    35872\n",
      "Name: YEAR, dtype: int64\n"
     ]
    }
   ],
   "source": [
    "crime_year_mean = crime_year.mean()\n",
    "crime_year_mode = crime_year.mode()\n",
    "crime_year_var = crime_year.var()\n",
    "crime_year_quartiles = crime_year.quantile([0.25, 0.75])\n",
    "\n",
    "print(\"The average crimes commited in a year is \", crime_year_mean)\n",
    "print(\"The variance of crimes commited in a year is \", crime_year_var)\n",
    "print(\"The upper and lower quartiles of crimes commited in a year is \", crime_year_quartiles)\n",
    "print(\"The mode for crimes commited in a year is\\n\", crime_year)"
   ]
  },
  {
   "cell_type": "code",
   "execution_count": 184,
   "metadata": {},
   "outputs": [
    {
     "name": "stdout",
     "output_type": "stream",
     "text": [
      "The average number of crimes commited in each month in 2003 is  4166.083333333333\n",
      "The variance of crimes commited in each month in 2003 is  100697.71969696971\n",
      "The upper and lower quartiles of crimes commited in each in 2003 is  0.25    3936.50\n",
      "0.75    4429.75\n",
      "Name: MONTH, dtype: float64\n",
      "The mode for crimes commited in each month in 2003 is\n",
      " 1     4410\n",
      "2     3556\n",
      "3     3939\n",
      "4     4220\n",
      "5     4654\n",
      "6     4489\n",
      "7     4107\n",
      "8     4291\n",
      "9     3977\n",
      "10    4497\n",
      "11    3924\n",
      "12    3929\n",
      "Name: MONTH, dtype: int64\n"
     ]
    }
   ],
   "source": [
    "crime_month_mean = crime_month_2003.mean()\n",
    "crime_month_var = crime_month_2003.var()\n",
    "crime_month_quartiles = crime_month_2003.quantile([0.25, 0.75])\n",
    "\n",
    "print(\"The average number of crimes commited in each month in 2003 is \", crime_month_mean)\n",
    "print(\"The variance of crimes commited in each month in 2003 is \", crime_month_var)\n",
    "print(\"The upper and lower quartiles of crimes commited in each in 2003 is \", crime_month_quartiles)\n",
    "print(\"The mode for crimes commited in each month in 2003 is\\n\", crime_month_2003)"
   ]
  },
  {
   "cell_type": "code",
   "execution_count": 185,
   "metadata": {},
   "outputs": [
    {
     "name": "stdout",
     "output_type": "stream",
     "text": [
      "The average number of crimes commited in each day in May 2003 is  150.1290322580645\n",
      "The variance of crimes commited in each day in May 2003 is  497.18279569892474\n",
      "The upper and lower quartiles of crimes commited in a day in May 2003 is  0.25    133.5\n",
      "0.75    166.5\n",
      "Name: DAY, dtype: float64\n",
      "The mode for crimes commited in each day is\n",
      " 16    193\n",
      "10    182\n",
      "24    179\n",
      "23    174\n",
      "1     171\n",
      "2     170\n",
      "18    169\n",
      "17    168\n",
      "15    165\n",
      "8     164\n",
      "9     163\n",
      "14    163\n",
      "20    160\n",
      "22    159\n",
      "31    158\n",
      "6     154\n",
      "3     149\n",
      "7     149\n",
      "19    144\n",
      "25    142\n",
      "13    141\n",
      "26    135\n",
      "12    134\n",
      "21    133\n",
      "30    128\n",
      "27    126\n",
      "5     126\n",
      "11    123\n",
      "4     117\n",
      "29    113\n",
      "28    102\n",
      "Name: DAY, dtype: int64\n"
     ]
    }
   ],
   "source": [
    "crime_day_mean = crime_day.mean()\n",
    "crime_day_var = crime_day.var()\n",
    "crime_day_quartiles = crime_day.quantile([0.25, 0.75])\n",
    "crime_day_mode = crime_days[\"DAY\"].value_counts()\n",
    "\n",
    "print(\"The average number of crimes commited in each day in May 2003 is \", crime_day_mean)\n",
    "print(\"The variance of crimes commited in each day in May 2003 is \", crime_day_var)\n",
    "print(\"The upper and lower quartiles of crimes commited in a day in May 2003 is \", crime_day_quartiles)\n",
    "print(\"The mode for crimes commited in each day is\\n\", crime_day_mode)"
   ]
  },
  {
   "cell_type": "code",
   "execution_count": 186,
   "metadata": {},
   "outputs": [
    {
     "name": "stdout",
     "output_type": "stream",
     "text": [
      "The average number of crimes commited in each hour on May 16 2003 is  7.391304347826087\n",
      "The variance of crimes commited in each hour on May 16 2003  18.885375494071152\n",
      "The upper and lower quartiles of crimes commited each hour on May 16 2003 is  0.25     4.0\n",
      "0.75    11.5\n",
      "Name: HOUR, dtype: float64\n",
      "The mode for crimes commited in each hour on May 16th is\n",
      " 17    15\n",
      "15    15\n",
      "22    13\n",
      "21    12\n",
      "19    12\n",
      "14    12\n",
      "18    11\n",
      "23    10\n",
      "9     10\n",
      "10     8\n",
      "20     7\n",
      "12     6\n",
      "11     5\n",
      "6      5\n",
      "13     4\n",
      "16     4\n",
      "8      4\n",
      "5      4\n",
      "2      4\n",
      "4      3\n",
      "7      2\n",
      "3      2\n",
      "1      2\n",
      "Name: HOUR, dtype: int64\n"
     ]
    }
   ],
   "source": [
    "crime_hour_mean = crime_hour.mean()\n",
    "crime_hour_var = crime_hour.var()\n",
    "crime_hour_quartiles = crime_hour.quantile([0.25, 0.75])\n",
    "crime_hour_mode = crime_hours[\"HOUR\"].value_counts()\n",
    "\n",
    "print(\"The average number of crimes commited in each hour on May 16 2003 is \", crime_hour_mean)\n",
    "print(\"The variance of crimes commited in each hour on May 16 2003 \", crime_hour_var)\n",
    "print(\"The upper and lower quartiles of crimes commited each hour on May 16 2003 is \", crime_hour_quartiles)\n",
    "print(\"The mode for crimes commited in each hour on May 16th is\\n\", crime_hour_mode)"
   ]
  },
  {
   "cell_type": "code",
   "execution_count": 187,
   "metadata": {},
   "outputs": [
    {
     "data": {
      "text/plain": [
       "Pmf({8: 0.09073646156163567, 10: 0.08783599716683921, 7: 0.08736967941054873, 9: 0.08687932465651131, 5: 0.08584893868642615, 6: 0.08555408484739711, 1: 0.0834596611103811, 3: 0.08265362045260065, 4: 0.08088770235145937, 11: 0.08027395767565437, 12: 0.07489608004640744, 2: 0.07360449203413895})"
      ]
     },
     "execution_count": 187,
     "metadata": {},
     "output_type": "execute_result"
    }
   ],
   "source": [
    "pmf= thinkstats2.Pmf(crime_data.MONTH)#checking to see how the PMF looks among the months\n",
    "pmf"
   ]
  },
  {
   "cell_type": "code",
   "execution_count": 188,
   "metadata": {
    "scrolled": true
   },
   "outputs": [
    {
     "data": {
      "text/plain": [
       "Theft from Vehicle                                        209609\n",
       "Mischief                                                   83970\n",
       "Break and Enter Residential/Other                          66378\n",
       "Other Theft                                                64611\n",
       "Offence Against a Person                                   62078\n",
       "Theft of Vehicle                                           41528\n",
       "Break and Enter Commercial                                 38916\n",
       "Theft of Bicycle                                           31112\n",
       "Vehicle Collision or Pedestrian Struck (with Injury)       25294\n",
       "Vehicle Collision or Pedestrian Struck (with Fatality)       290\n",
       "Homicide                                                     252\n",
       "Name: TYPE, dtype: int64"
      ]
     },
     "execution_count": 188,
     "metadata": {},
     "output_type": "execute_result"
    }
   ],
   "source": [
    "crime_type_mode = crime_data[\"TYPE\"].value_counts()\n",
    "crime_type_mode #results shows theft from vehicle has the most occurence"
   ]
  },
  {
   "cell_type": "code",
   "execution_count": 189,
   "metadata": {},
   "outputs": [],
   "source": [
    "#going to do PMF comparing Theft from Vechile compared to other crimes\n",
    "Theft_Vehicle=crime_data[crime_data[\"TYPE\"]==\"Theft from Vehicle\"]#filtering the data set to just Theft from Vehicle\n",
    "Other_Crimes=crime_data[crime_data[\"TYPE\"]!=\"Theft from Vehicle\"]#filtering to other crimes that aren't theft from vehicle\n"
   ]
  },
  {
   "cell_type": "code",
   "execution_count": 190,
   "metadata": {},
   "outputs": [
    {
     "data": {
      "text/plain": [
       "Pmf({2004: 0.08684741590294309, 2003: 0.08465285364655142, 2005: 0.07897561650501647, 2018: 0.07158566664599325, 2019: 0.07103702608189533, 2006: 0.07029278322972772, 2017: 0.06182940618007814, 2016: 0.061142412778077276, 2007: 0.05832764814487927, 2008: 0.05390035733198479, 2015: 0.05031272512153581, 2014: 0.048375785390894474, 2009: 0.047741270651546444, 2010: 0.04108602206966304, 2013: 0.039793138653397515, 2012: 0.03862906650000715, 2011: 0.035470805165808715}, 'Theft from Vehicle')"
      ]
     },
     "execution_count": 190,
     "metadata": {},
     "output_type": "execute_result"
    }
   ],
   "source": [
    "Theft_Vehicle_pmf = thinkstats2.Pmf(Theft_Vehicle.YEAR, label='Theft from Vehicle')#calculating PMF for Theft Vehicle per year\n",
    "Other_Crimes_pmf = thinkstats2.Pmf(Other_Crimes.YEAR, label='Other Crime')#calculating PMF for all other types of crime per year\n",
    "Theft_Vehicle_pmf"
   ]
  },
  {
   "cell_type": "code",
   "execution_count": 191,
   "metadata": {},
   "outputs": [
    {
     "data": {
      "text/plain": [
       "Pmf({2003: 0.07781550036315027, 2004: 0.07503577211054246, 2005: 0.06789582775336668, 2006: 0.06656628759087806, 2007: 0.06145564137644808, 2016: 0.060393939613299266, 2008: 0.058190908454765475, 2017: 0.05800269768766182, 2015: 0.05744771722056131, 2018: 0.05567177972583966, 2014: 0.054371195065982356, 2009: 0.05350011702848981, 2011: 0.05103889930482665, 2012: 0.05101718267785315, 2010: 0.05089412179166999, 2019: 0.05062869635088278, 2013: 0.05007371588378227}, 'Other Crime')"
      ]
     },
     "execution_count": 191,
     "metadata": {},
     "output_type": "execute_result"
    }
   ],
   "source": [
    "Other_Crimes_pmf"
   ]
  },
  {
   "cell_type": "code",
   "execution_count": 192,
   "metadata": {},
   "outputs": [
    {
     "data": {
      "image/png": "[encoded data removed]",
      "text/plain": [
       "<Figure size 864x432 with 2 Axes>"
      ]
     },
     "metadata": {
      "needs_background": "light"
     },
     "output_type": "display_data"
    }
   ],
   "source": [
    "width=0.2\n",
    "axis = [2003, 2019, 0, 0.1] \n",
    "thinkplot.PrePlot(2, cols=2)\n",
    "thinkplot.Hist(Theft_Vehicle_pmf, align='right', width=width) #The probability of theft from vehicle occuring between 2003-\n",
    "#-2019 is x percentage, the probability of other crime occuring between 2003-2019 is x percentage.\n",
    "thinkplot.Hist(Other_Crimes_pmf , align='left', width=width)\n",
    "thinkplot.Config(xlabel='Year', ylabel='PMF', axis=axis)\n",
    "\n",
    "thinkplot.PrePlot(2)\n",
    "thinkplot.SubPlot(2)\n",
    "thinkplot.Pmfs([Theft_Vehicle_pmf, Other_Crimes_pmf ])\n",
    "thinkplot.Config(xlabel='Year', axis=axis)"
   ]
  },
  {
   "cell_type": "code",
   "execution_count": 193,
   "metadata": {},
   "outputs": [],
   "source": [
    "#going to do PMF comparing 2003 to 2019 by crime types to see if a crime became more prevalent\n",
    "Crime_2003=crime_data[crime_data[\"YEAR\"]==2003]#filtering the data set to just Theft from Vehicle\n",
    "Crime_2019=crime_data[crime_data[\"YEAR\"]==2019]#filtering to other crimes that aren't theft from vehicle\n",
    "Crime_Type_2003pmf = thinkstats2.Pmf(Crime_2003.TYPE, label='Crime 2003')#calculating PMF for Theft Vehicle per year\n",
    "Crime_Type_2019pmf= thinkstats2.Pmf(Crime_2019.TYPE, label='Crime 2019')#calculating PMF 4for all other types of crime per year"
   ]
  },
  {
   "cell_type": "code",
   "execution_count": 194,
   "metadata": {},
   "outputs": [
    {
     "data": {
      "text/plain": [
       "(array([ 0.5,  1.5,  2.5,  3.5,  4.5,  5.5,  6.5,  7.5,  8.5,  9.5, 10.5]),\n",
       " <a list of 11 Text xticklabel objects>)"
      ]
     },
     "execution_count": 194,
     "metadata": {},
     "output_type": "execute_result"
    },
    {
     "data": {
      "image/png": "[encoded data removed]",
      "text/plain": [
       "<Figure size 864x432 with 1 Axes>"
      ]
     },
     "metadata": {
      "needs_background": "light"
     },
     "output_type": "display_data"
    }
   ],
   "source": [
    "Crime_Types = ['Theft from Vehicle','Mischief','Break and Enter Residential/Other','Other Theft','Offence Against a Person','Theft of Vehicle','Break and Enter Commercial','Theft of Bicycle','Vehicle Collision or Pedestrian Struck (with Injury)','Vehicle Collision or Pedestrian Struck (with Fatality)','Homicide']\n",
    "x = np.arange(len(Crime_Types))\n",
    "\n",
    "width=0.3\n",
    "axis = [crime_data.TYPE, 0, 0.5]\n",
    "thinkplot.PrePlot(2, cols=2)\n",
    "thinkplot.Hist(Crime_Type_2003pmf, align='right', width=width)\n",
    "thinkplot.Hist(Crime_Type_2019pmf , align='left', width=width)\n",
    "thinkplot.Config(xlabel='Crime Type', ylabel='PMF')\n",
    "plt.xticks(rotation=90)"
   ]
  },
  {
   "cell_type": "code",
   "execution_count": 195,
   "metadata": {},
   "outputs": [
    {
     "data": {
      "image/png": "[encoded data removed]",
      "text/plain": [
       "<Figure size 432x288 with 1 Axes>"
      ]
     },
     "metadata": {
      "needs_background": "light"
     },
     "output_type": "display_data"
    },
    {
     "data": {
      "text/plain": [
       "<Figure size 576x432 with 0 Axes>"
      ]
     },
     "metadata": {},
     "output_type": "display_data"
    }
   ],
   "source": [
    "Year_CDF= thinkstats2.Cdf(crime_data.YEAR, label='Year')#CDF of crime from 2003-2019\n",
    "thinkplot.Cdf(Year_CDF)#plot the CDF\n",
    "thinkplot.Show(xlabel='Year', ylabel='CDF')\n",
    "# step size in the middle show slow down of crime, but starts to pick up again"
   ]
  },
  {
   "cell_type": "code",
   "execution_count": 196,
   "metadata": {},
   "outputs": [],
   "source": [
    "#since the histogram showed the neighbourhood of Central Business District with the most crime drilling down to that\n",
    "Crime_centraldistrict=crime_data[crime_data[\"NEIGHBOURHOOD\"]==\"Central Business District\"]\n",
    "crime_centraldistrict_year = Crime_centraldistrict[\"YEAR\"].dropna()\n",
    "#crime_centraldistrict_yearv= Crime_centraldistrict[\"YEAR\"].value_counts()\n",
    "#crime_centraldistrict_yearv"
   ]
  },
  {
   "cell_type": "code",
   "execution_count": 197,
   "metadata": {},
   "outputs": [
    {
     "name": "stdout",
     "output_type": "stream",
     "text": [
      "n, mean, std 137513 2011.264011635241 5.196539934665998\n"
     ]
    },
    {
     "data": {
      "image/png": "[encoded data removed]",
      "text/plain": [
       "<Figure size 432x288 with 1 Axes>"
      ]
     },
     "metadata": {
      "needs_background": "light"
     },
     "output_type": "display_data"
    }
   ],
   "source": [
    "def MakeNormalModel(crime_centraldistrict_year):\n",
    "    \"\"\"Plots a CDF with a Normal model.\n",
    "\n",
    "    \"\"\"\n",
    "    cdf = thinkstats2.Cdf(crime_centraldistrict_year, label='cime')\n",
    "\n",
    "    mean, var = thinkstats2.TrimmedMeanVar(crime_centraldistrict_year)\n",
    "    std = np.sqrt(var)\n",
    "    print('n, mean, std', len(crime_centraldistrict_year), mean, std)\n",
    "\n",
    "    xmin = mean - 2 * std\n",
    "    xmax = mean + 2 * std\n",
    "\n",
    "    xs, ps = thinkstats2.RenderNormalCdf(mean, std, xmin, xmax)\n",
    "    thinkplot.Plot(xs, ps, label='model', linewidth=4, color='0.8')\n",
    "    thinkplot.Cdf(cdf)\n",
    "\n",
    "\n",
    "MakeNormalModel(crime_centraldistrict_year)\n",
    "thinkplot.Config(title='Crime in Central Business District, linear scale', xlabel='Year',\n",
    "                 ylabel='CDF', loc='upper left')\n",
    "\n"
   ]
  },
  {
   "cell_type": "code",
   "execution_count": 198,
   "metadata": {},
   "outputs": [
    {
     "data": {
      "image/png": "[encoded data removed]",
      "text/plain": [
       "<Figure size 432x288 with 1 Axes>"
      ]
     },
     "metadata": {
      "needs_background": "light"
     },
     "output_type": "display_data"
    }
   ],
   "source": [
    "def MakeNormalPlot(crime_centraldistrict_year):\n",
    "    \"\"\"Generates a normal probability plot of Crime in Central Business District,.\n",
    "\n",
    "    \"\"\"\n",
    "    mean, var = thinkstats2.TrimmedMeanVar(crime_centraldistrict_year, p=0.01)\n",
    "    std = np.sqrt(var)\n",
    "\n",
    "    xs = [-2, 2]\n",
    "    xs, ys = thinkstats2.FitLine(xs, mean, std)\n",
    "    thinkplot.Plot(xs, ys, color='0.8', label='model')\n",
    "\n",
    "    xs, ys = thinkstats2.NormalProbability(crime_centraldistrict_year)\n",
    "    thinkplot.Plot(xs, ys, label='Crime')\n",
    "\n",
    "MakeNormalPlot(crime_centraldistrict_year)\n",
    "thinkplot.Config(title='Crime in Central Business District, normal plot', xlabel='Standard deviations from mean',\n",
    "                 ylabel='Year', loc='upper left')"
   ]
  },
  {
   "cell_type": "code",
   "execution_count": 199,
   "metadata": {},
   "outputs": [
    {
     "data": {
      "text/plain": [
       "1          2\n",
       "2          4\n",
       "3          5\n",
       "4          3\n",
       "5          4\n",
       "          ..\n",
       "624033    13\n",
       "624034     9\n",
       "624035    16\n",
       "624036    20\n",
       "624037    18\n",
       "Name: HOUR, Length: 527222, dtype: int64"
      ]
     },
     "execution_count": 199,
     "metadata": {},
     "output_type": "execute_result"
    }
   ],
   "source": [
    "Crimes_new=crime_data[crime_data[\"HOUR\"]!=0]\n",
    "Crimes_new=Crimes_new.dropna()\n",
    "Crimes_new.HOUR"
   ]
  },
  {
   "cell_type": "code",
   "execution_count": 200,
   "metadata": {},
   "outputs": [
    {
     "name": "stdout",
     "output_type": "stream",
     "text": [
      "                            TYPE  YEAR  MONTH  DAY  HOUR  MINUTE  \\\n",
      "476428        Theft from Vehicle  2003      1    1    21      21   \n",
      "565975          Theft of Vehicle  2003      1    1    13      30   \n",
      "333294        Theft from Vehicle  2003      1    1     1      30   \n",
      "153463                  Mischief  2003      1    1     1      46   \n",
      "218780  Offence Against a Person  2003      1    1     0       0   \n",
      "...                          ...   ...    ...  ...   ...     ...   \n",
      "192137  Offence Against a Person  2018     12   31     0       0   \n",
      "381923        Theft from Vehicle  2018     12   31     9      30   \n",
      "488453        Theft from Vehicle  2018     12   31     0       0   \n",
      "522643        Theft from Vehicle  2018     12   31    21       0   \n",
      "423399        Theft from Vehicle  2018     12   31    13       0   \n",
      "\n",
      "                    HUNDRED_BLOCK       NEIGHBOURHOOD              X  \\\n",
      "476428             81XX POPLAR ST              Sunset  493210.070208   \n",
      "565975               18XX VINE ST           Kitsilano  488550.900860   \n",
      "333294            12XX ALBERNI ST            West End  490830.087564   \n",
      "153463               45XX MAIN ST          Riley Park  492627.838215   \n",
      "218780  OFFSET TO PROTECT PRIVACY                 NaN       0.000000   \n",
      "...                           ...                 ...            ...   \n",
      "192137  OFFSET TO PROTECT PRIVACY                 NaN       0.000000   \n",
      "381923             22XX E 7TH AVE  Grandview-Woodland  495631.585567   \n",
      "488453             9XX BURRARD ST            West End  490888.506199   \n",
      "522643    SW MARINE DR / YUKON ST             Marpole  491619.426207   \n",
      "423399             3XX W 16TH AVE      Mount Pleasant  491810.987203   \n",
      "\n",
      "                   Y      TIME  \n",
      "476428  5.451005e+06  01012003  \n",
      "565975  5.457475e+06  01012003  \n",
      "333294  5.459359e+06  01012003  \n",
      "153463  5.454544e+06  01012003  \n",
      "218780  0.000000e+00  01012003  \n",
      "...              ...       ...  \n",
      "192137  0.000000e+00  31122018  \n",
      "381923  5.456817e+06  31122018  \n",
      "488453  5.458784e+06  31122018  \n",
      "522643  5.450905e+06  31122018  \n",
      "423399  5.456016e+06  31122018  \n",
      "\n",
      "[624038 rows x 11 columns]\n"
     ]
    }
   ],
   "source": [
    "crime_data['TIME'] = crime_data['MONTH'].map(str) + crime_data['YEAR'].map(str) #Adding Day to Time hour variable which will be used to scale down to specific minute\n",
    "crime_data['TIME'] = crime_data['TIME'].apply('{:0>6}'.format)\n",
    "\n",
    "crime_data['TIME'] = crime_data['DAY'].map(str) + crime_data['TIME'].map(str) #Adding Day to Time hour variable which will be used to scale down to specific minute\n",
    "crime_data['TIME'] = crime_data['TIME'].apply('{:0>8}'.format)\n",
    "\n",
    "crime_data.sort_values(\"TIME\", inplace=True)\n",
    "print(crime_data)"
   ]
  },
  {
   "cell_type": "code",
   "execution_count": 201,
   "metadata": {},
   "outputs": [
    {
     "name": "stdout",
     "output_type": "stream",
     "text": [
      "          TIME  TYPE  NEIGHBOURHOOD\n",
      "0     01012003     9             21\n",
      "1     01012004     9             20\n",
      "2     01012005     9             22\n",
      "3     01012006     9             20\n",
      "4     01012007     9             20\n",
      "...        ...   ...            ...\n",
      "6158  31122014     9             18\n",
      "6159  31122015     9             22\n",
      "6160  31122016     9             20\n",
      "6161  31122017     9             19\n",
      "6162  31122018     8             20\n",
      "\n",
      "[6163 rows x 3 columns]\n"
     ]
    }
   ],
   "source": [
    "Crime_Types = crime_data.groupby(by='TIME', as_index=False).agg({'TYPE': pd.Series.nunique}) #Grabbing count of crime type involved in crimes by time\n",
    "Crime_Neighbourhood = crime_data.groupby(by='TIME', as_index=False).agg({'NEIGHBOURHOOD': pd.Series.nunique})#Grabbing count of neighborhoods involved in crimes by time\n",
    "Types_Neighborhood = pd.merge(Crime_Types, Crime_Neighbourhood, on='TIME') #Merging the two datasets for Crime Types and Crime Neighbourhoods\n",
    "print(Types_Neighborhood)"
   ]
  },
  {
   "cell_type": "code",
   "execution_count": 202,
   "metadata": {},
   "outputs": [
    {
     "data": {
      "text/plain": [
       "Text(0, 0.5, 'Count of Unique Crime Types')"
      ]
     },
     "execution_count": 202,
     "metadata": {},
     "output_type": "execute_result"
    },
    {
     "data": {
      "image/png": "[encoded data removed]",
      "text/plain": [
       "<Figure size 432x288 with 1 Axes>"
      ]
     },
     "metadata": {
      "needs_background": "light"
     },
     "output_type": "display_data"
    }
   ],
   "source": [
    "plt.scatter(Types_Neighborhood.TYPE, Types_Neighborhood.NEIGHBOURHOOD)\n",
    "plt.xlabel('Count of Unique Neighbourhoods impacted by crime')\n",
    "plt.ylabel('Count of Unique Crime Types') #Is there a correlation between number of types of crimes committed and unique neighborhoods impacted"
   ]
  },
  {
   "cell_type": "markdown",
   "metadata": {},
   "source": [
    "Is there a correlation between number of types of crimes committed and unique neighborhoods impacted"
   ]
  },
  {
   "cell_type": "code",
   "execution_count": 203,
   "metadata": {},
   "outputs": [
    {
     "data": {
      "text/html": [
       "<div>\n",
       "<style scoped>\n",
       "    .dataframe tbody tr th:only-of-type {\n",
       "        vertical-align: middle;\n",
       "    }\n",
       "\n",
       "    .dataframe tbody tr th {\n",
       "        vertical-align: top;\n",
       "    }\n",
       "\n",
       "    .dataframe thead th {\n",
       "        text-align: right;\n",
       "    }\n",
       "</style>\n",
       "<table border=\"1\" class=\"dataframe\">\n",
       "  <thead>\n",
       "    <tr style=\"text-align: right;\">\n",
       "      <th></th>\n",
       "      <th>TYPE</th>\n",
       "      <th>NEIGHBOURHOOD</th>\n",
       "    </tr>\n",
       "  </thead>\n",
       "  <tbody>\n",
       "    <tr>\n",
       "      <td>TYPE</td>\n",
       "      <td>1.000000</td>\n",
       "      <td>0.164937</td>\n",
       "    </tr>\n",
       "    <tr>\n",
       "      <td>NEIGHBOURHOOD</td>\n",
       "      <td>0.164937</td>\n",
       "      <td>1.000000</td>\n",
       "    </tr>\n",
       "  </tbody>\n",
       "</table>\n",
       "</div>"
      ],
      "text/plain": [
       "                   TYPE  NEIGHBOURHOOD\n",
       "TYPE           1.000000       0.164937\n",
       "NEIGHBOURHOOD  0.164937       1.000000"
      ]
     },
     "execution_count": 203,
     "metadata": {},
     "output_type": "execute_result"
    }
   ],
   "source": [
    "pearsoncorr1 = Types_Neighborhood.corr(method='pearson')\n",
    "pearsoncorr1"
   ]
  },
  {
   "cell_type": "code",
   "execution_count": 204,
   "metadata": {},
   "outputs": [
    {
     "data": {
      "text/html": [
       "<div>\n",
       "<style scoped>\n",
       "    .dataframe tbody tr th:only-of-type {\n",
       "        vertical-align: middle;\n",
       "    }\n",
       "\n",
       "    .dataframe tbody tr th {\n",
       "        vertical-align: top;\n",
       "    }\n",
       "\n",
       "    .dataframe thead th {\n",
       "        text-align: right;\n",
       "    }\n",
       "</style>\n",
       "<table border=\"1\" class=\"dataframe\">\n",
       "  <thead>\n",
       "    <tr style=\"text-align: right;\">\n",
       "      <th></th>\n",
       "      <th>TYPE</th>\n",
       "      <th>NEIGHBOURHOOD</th>\n",
       "    </tr>\n",
       "  </thead>\n",
       "  <tbody>\n",
       "    <tr>\n",
       "      <td>TYPE</td>\n",
       "      <td>0.213122</td>\n",
       "      <td>0.152856</td>\n",
       "    </tr>\n",
       "    <tr>\n",
       "      <td>NEIGHBOURHOOD</td>\n",
       "      <td>0.152856</td>\n",
       "      <td>4.029932</td>\n",
       "    </tr>\n",
       "  </tbody>\n",
       "</table>\n",
       "</div>"
      ],
      "text/plain": [
       "                   TYPE  NEIGHBOURHOOD\n",
       "TYPE           0.213122       0.152856\n",
       "NEIGHBOURHOOD  0.152856       4.029932"
      ]
     },
     "execution_count": 204,
     "metadata": {},
     "output_type": "execute_result"
    }
   ],
   "source": [
    "cov1=Types_Neighborhood.cov()\n",
    "cov1"
   ]
  },
  {
   "cell_type": "code",
   "execution_count": 205,
   "metadata": {},
   "outputs": [
    {
     "data": {
      "text/html": [
       "<div>\n",
       "<style scoped>\n",
       "    .dataframe tbody tr th:only-of-type {\n",
       "        vertical-align: middle;\n",
       "    }\n",
       "\n",
       "    .dataframe tbody tr th {\n",
       "        vertical-align: top;\n",
       "    }\n",
       "\n",
       "    .dataframe thead th {\n",
       "        text-align: right;\n",
       "    }\n",
       "</style>\n",
       "<table border=\"1\" class=\"dataframe\">\n",
       "  <thead>\n",
       "    <tr style=\"text-align: right;\">\n",
       "      <th></th>\n",
       "      <th>TYPE</th>\n",
       "      <th>YEAR</th>\n",
       "      <th>MONTH</th>\n",
       "      <th>DAY</th>\n",
       "      <th>HOUR</th>\n",
       "      <th>MINUTE</th>\n",
       "      <th>HUNDRED_BLOCK</th>\n",
       "      <th>NEIGHBOURHOOD</th>\n",
       "      <th>X</th>\n",
       "      <th>Y</th>\n",
       "      <th>TIME</th>\n",
       "      <th>Crimes_Per_Day</th>\n",
       "    </tr>\n",
       "  </thead>\n",
       "  <tbody>\n",
       "    <tr>\n",
       "      <td>476428</td>\n",
       "      <td>Theft from Vehicle</td>\n",
       "      <td>2003</td>\n",
       "      <td>1</td>\n",
       "      <td>1</td>\n",
       "      <td>21</td>\n",
       "      <td>21</td>\n",
       "      <td>81XX POPLAR ST</td>\n",
       "      <td>Sunset</td>\n",
       "      <td>493210.070208</td>\n",
       "      <td>5.451005e+06</td>\n",
       "      <td>01012003</td>\n",
       "      <td>194</td>\n",
       "    </tr>\n",
       "    <tr>\n",
       "      <td>565975</td>\n",
       "      <td>Theft of Vehicle</td>\n",
       "      <td>2003</td>\n",
       "      <td>1</td>\n",
       "      <td>1</td>\n",
       "      <td>13</td>\n",
       "      <td>30</td>\n",
       "      <td>18XX VINE ST</td>\n",
       "      <td>Kitsilano</td>\n",
       "      <td>488550.900860</td>\n",
       "      <td>5.457475e+06</td>\n",
       "      <td>01012003</td>\n",
       "      <td>194</td>\n",
       "    </tr>\n",
       "    <tr>\n",
       "      <td>333294</td>\n",
       "      <td>Theft from Vehicle</td>\n",
       "      <td>2003</td>\n",
       "      <td>1</td>\n",
       "      <td>1</td>\n",
       "      <td>1</td>\n",
       "      <td>30</td>\n",
       "      <td>12XX ALBERNI ST</td>\n",
       "      <td>West End</td>\n",
       "      <td>490830.087564</td>\n",
       "      <td>5.459359e+06</td>\n",
       "      <td>01012003</td>\n",
       "      <td>194</td>\n",
       "    </tr>\n",
       "    <tr>\n",
       "      <td>153463</td>\n",
       "      <td>Mischief</td>\n",
       "      <td>2003</td>\n",
       "      <td>1</td>\n",
       "      <td>1</td>\n",
       "      <td>1</td>\n",
       "      <td>46</td>\n",
       "      <td>45XX MAIN ST</td>\n",
       "      <td>Riley Park</td>\n",
       "      <td>492627.838215</td>\n",
       "      <td>5.454544e+06</td>\n",
       "      <td>01012003</td>\n",
       "      <td>194</td>\n",
       "    </tr>\n",
       "    <tr>\n",
       "      <td>218780</td>\n",
       "      <td>Offence Against a Person</td>\n",
       "      <td>2003</td>\n",
       "      <td>1</td>\n",
       "      <td>1</td>\n",
       "      <td>0</td>\n",
       "      <td>0</td>\n",
       "      <td>OFFSET TO PROTECT PRIVACY</td>\n",
       "      <td>NaN</td>\n",
       "      <td>0.000000</td>\n",
       "      <td>0.000000e+00</td>\n",
       "      <td>01012003</td>\n",
       "      <td>194</td>\n",
       "    </tr>\n",
       "  </tbody>\n",
       "</table>\n",
       "</div>"
      ],
      "text/plain": [
       "                            TYPE  YEAR  MONTH  DAY  HOUR  MINUTE  \\\n",
       "476428        Theft from Vehicle  2003      1    1    21      21   \n",
       "565975          Theft of Vehicle  2003      1    1    13      30   \n",
       "333294        Theft from Vehicle  2003      1    1     1      30   \n",
       "153463                  Mischief  2003      1    1     1      46   \n",
       "218780  Offence Against a Person  2003      1    1     0       0   \n",
       "\n",
       "                    HUNDRED_BLOCK NEIGHBOURHOOD              X             Y  \\\n",
       "476428             81XX POPLAR ST        Sunset  493210.070208  5.451005e+06   \n",
       "565975               18XX VINE ST     Kitsilano  488550.900860  5.457475e+06   \n",
       "333294            12XX ALBERNI ST      West End  490830.087564  5.459359e+06   \n",
       "153463               45XX MAIN ST    Riley Park  492627.838215  5.454544e+06   \n",
       "218780  OFFSET TO PROTECT PRIVACY           NaN       0.000000  0.000000e+00   \n",
       "\n",
       "            TIME  Crimes_Per_Day  \n",
       "476428  01012003             194  \n",
       "565975  01012003             194  \n",
       "333294  01012003             194  \n",
       "153463  01012003             194  \n",
       "218780  01012003             194  "
      ]
     },
     "execution_count": 205,
     "metadata": {},
     "output_type": "execute_result"
    }
   ],
   "source": [
    "crime_data['Crimes_Per_Day']=crime_data.groupby(['TIME'])['TIME'].transform('count') #adding a new column to count for crimes per day\n",
    "crime_data.head()"
   ]
  },
  {
   "cell_type": "code",
   "execution_count": 206,
   "metadata": {},
   "outputs": [
    {
     "data": {
      "text/plain": [
       "Text(0, 0.5, 'Count of crimes that day')"
      ]
     },
     "execution_count": 206,
     "metadata": {},
     "output_type": "execute_result"
    },
    {
     "data": {
      "image/png": "[encoded data removed]",
      "text/plain": [
       "<Figure size 432x288 with 1 Axes>"
      ]
     },
     "metadata": {
      "needs_background": "light"
     },
     "output_type": "display_data"
    }
   ],
   "source": [
    "plt.scatter(crime_data.DAY, crime_data.Crimes_Per_Day)#checking to see if there is a relationship between the number of crimes and the day of the month\n",
    "plt.xlabel('The Day of the Month')\n",
    "plt.ylabel('Count of crimes that day')"
   ]
  },
  {
   "cell_type": "code",
   "execution_count": 207,
   "metadata": {},
   "outputs": [
    {
     "data": {
      "text/html": [
       "<div>\n",
       "<style scoped>\n",
       "    .dataframe tbody tr th:only-of-type {\n",
       "        vertical-align: middle;\n",
       "    }\n",
       "\n",
       "    .dataframe tbody tr th {\n",
       "        vertical-align: top;\n",
       "    }\n",
       "\n",
       "    .dataframe thead th {\n",
       "        text-align: right;\n",
       "    }\n",
       "</style>\n",
       "<table border=\"1\" class=\"dataframe\">\n",
       "  <thead>\n",
       "    <tr style=\"text-align: right;\">\n",
       "      <th></th>\n",
       "      <th>YEAR</th>\n",
       "      <th>MONTH</th>\n",
       "      <th>DAY</th>\n",
       "      <th>HOUR</th>\n",
       "      <th>MINUTE</th>\n",
       "      <th>X</th>\n",
       "      <th>Y</th>\n",
       "      <th>Crimes_Per_Day</th>\n",
       "    </tr>\n",
       "  </thead>\n",
       "  <tbody>\n",
       "    <tr>\n",
       "      <td>YEAR</td>\n",
       "      <td>1.000000</td>\n",
       "      <td>-0.001740</td>\n",
       "      <td>-0.008111</td>\n",
       "      <td>-0.006974</td>\n",
       "      <td>0.052492</td>\n",
       "      <td>-0.002711</td>\n",
       "      <td>-0.002655</td>\n",
       "      <td>-0.310193</td>\n",
       "    </tr>\n",
       "    <tr>\n",
       "      <td>MONTH</td>\n",
       "      <td>-0.001740</td>\n",
       "      <td>1.000000</td>\n",
       "      <td>0.006583</td>\n",
       "      <td>0.002129</td>\n",
       "      <td>-0.003783</td>\n",
       "      <td>0.003530</td>\n",
       "      <td>0.003407</td>\n",
       "      <td>0.028093</td>\n",
       "    </tr>\n",
       "    <tr>\n",
       "      <td>DAY</td>\n",
       "      <td>-0.008111</td>\n",
       "      <td>0.006583</td>\n",
       "      <td>1.000000</td>\n",
       "      <td>0.001878</td>\n",
       "      <td>0.003289</td>\n",
       "      <td>-0.003983</td>\n",
       "      <td>-0.004025</td>\n",
       "      <td>-0.109340</td>\n",
       "    </tr>\n",
       "    <tr>\n",
       "      <td>HOUR</td>\n",
       "      <td>-0.006974</td>\n",
       "      <td>0.002129</td>\n",
       "      <td>0.001878</td>\n",
       "      <td>1.000000</td>\n",
       "      <td>0.113185</td>\n",
       "      <td>0.540182</td>\n",
       "      <td>0.540229</td>\n",
       "      <td>0.041346</td>\n",
       "    </tr>\n",
       "    <tr>\n",
       "      <td>MINUTE</td>\n",
       "      <td>0.052492</td>\n",
       "      <td>-0.003783</td>\n",
       "      <td>0.003289</td>\n",
       "      <td>0.113185</td>\n",
       "      <td>1.000000</td>\n",
       "      <td>0.281291</td>\n",
       "      <td>0.281143</td>\n",
       "      <td>-0.025518</td>\n",
       "    </tr>\n",
       "    <tr>\n",
       "      <td>X</td>\n",
       "      <td>-0.002711</td>\n",
       "      <td>0.003530</td>\n",
       "      <td>-0.003983</td>\n",
       "      <td>0.540182</td>\n",
       "      <td>0.281291</td>\n",
       "      <td>1.000000</td>\n",
       "      <td>0.999843</td>\n",
       "      <td>0.042003</td>\n",
       "    </tr>\n",
       "    <tr>\n",
       "      <td>Y</td>\n",
       "      <td>-0.002655</td>\n",
       "      <td>0.003407</td>\n",
       "      <td>-0.004025</td>\n",
       "      <td>0.540229</td>\n",
       "      <td>0.281143</td>\n",
       "      <td>0.999843</td>\n",
       "      <td>1.000000</td>\n",
       "      <td>0.042313</td>\n",
       "    </tr>\n",
       "    <tr>\n",
       "      <td>Crimes_Per_Day</td>\n",
       "      <td>-0.310193</td>\n",
       "      <td>0.028093</td>\n",
       "      <td>-0.109340</td>\n",
       "      <td>0.041346</td>\n",
       "      <td>-0.025518</td>\n",
       "      <td>0.042003</td>\n",
       "      <td>0.042313</td>\n",
       "      <td>1.000000</td>\n",
       "    </tr>\n",
       "  </tbody>\n",
       "</table>\n",
       "</div>"
      ],
      "text/plain": [
       "                    YEAR     MONTH       DAY      HOUR    MINUTE         X  \\\n",
       "YEAR            1.000000 -0.001740 -0.008111 -0.006974  0.052492 -0.002711   \n",
       "MONTH          -0.001740  1.000000  0.006583  0.002129 -0.003783  0.003530   \n",
       "DAY            -0.008111  0.006583  1.000000  0.001878  0.003289 -0.003983   \n",
       "HOUR           -0.006974  0.002129  0.001878  1.000000  0.113185  0.540182   \n",
       "MINUTE          0.052492 -0.003783  0.003289  0.113185  1.000000  0.281291   \n",
       "X              -0.002711  0.003530 -0.003983  0.540182  0.281291  1.000000   \n",
       "Y              -0.002655  0.003407 -0.004025  0.540229  0.281143  0.999843   \n",
       "Crimes_Per_Day -0.310193  0.028093 -0.109340  0.041346 -0.025518  0.042003   \n",
       "\n",
       "                       Y  Crimes_Per_Day  \n",
       "YEAR           -0.002655       -0.310193  \n",
       "MONTH           0.003407        0.028093  \n",
       "DAY            -0.004025       -0.109340  \n",
       "HOUR            0.540229        0.041346  \n",
       "MINUTE          0.281143       -0.025518  \n",
       "X               0.999843        0.042003  \n",
       "Y               1.000000        0.042313  \n",
       "Crimes_Per_Day  0.042313        1.000000  "
      ]
     },
     "execution_count": 207,
     "metadata": {},
     "output_type": "execute_result"
    }
   ],
   "source": [
    "pearsoncorr3 = crime_data.corr(method='pearson')\n",
    "pearsoncorr3"
   ]
  },
  {
   "cell_type": "code",
   "execution_count": 208,
   "metadata": {},
   "outputs": [
    {
     "data": {
      "text/html": [
       "<div>\n",
       "<style scoped>\n",
       "    .dataframe tbody tr th:only-of-type {\n",
       "        vertical-align: middle;\n",
       "    }\n",
       "\n",
       "    .dataframe tbody tr th {\n",
       "        vertical-align: top;\n",
       "    }\n",
       "\n",
       "    .dataframe thead th {\n",
       "        text-align: right;\n",
       "    }\n",
       "</style>\n",
       "<table border=\"1\" class=\"dataframe\">\n",
       "  <thead>\n",
       "    <tr style=\"text-align: right;\">\n",
       "      <th></th>\n",
       "      <th>YEAR</th>\n",
       "      <th>MONTH</th>\n",
       "      <th>DAY</th>\n",
       "      <th>HOUR</th>\n",
       "      <th>MINUTE</th>\n",
       "      <th>X</th>\n",
       "      <th>Y</th>\n",
       "      <th>Crimes_Per_Day</th>\n",
       "    </tr>\n",
       "  </thead>\n",
       "  <tbody>\n",
       "    <tr>\n",
       "      <td>YEAR</td>\n",
       "      <td>26.694373</td>\n",
       "      <td>-0.030456</td>\n",
       "      <td>-0.366439</td>\n",
       "      <td>-2.743058e-01</td>\n",
       "      <td>4.950307e+00</td>\n",
       "      <td>-2.067761e+03</td>\n",
       "      <td>-2.244222e+04</td>\n",
       "      <td>-4.957549e+01</td>\n",
       "    </tr>\n",
       "    <tr>\n",
       "      <td>MONTH</td>\n",
       "      <td>-0.030456</td>\n",
       "      <td>11.483319</td>\n",
       "      <td>0.195077</td>\n",
       "      <td>5.492409e-02</td>\n",
       "      <td>-2.339704e-01</td>\n",
       "      <td>1.765824e+03</td>\n",
       "      <td>1.889260e+04</td>\n",
       "      <td>2.944784e+00</td>\n",
       "    </tr>\n",
       "    <tr>\n",
       "      <td>DAY</td>\n",
       "      <td>-0.366439</td>\n",
       "      <td>0.195077</td>\n",
       "      <td>76.461510</td>\n",
       "      <td>1.250464e-01</td>\n",
       "      <td>5.249924e-01</td>\n",
       "      <td>-5.141743e+03</td>\n",
       "      <td>-5.758562e+04</td>\n",
       "      <td>-2.957508e+01</td>\n",
       "    </tr>\n",
       "    <tr>\n",
       "      <td>HOUR</td>\n",
       "      <td>-0.274306</td>\n",
       "      <td>0.054924</td>\n",
       "      <td>0.125046</td>\n",
       "      <td>5.795449e+01</td>\n",
       "      <td>1.572766e+01</td>\n",
       "      <td>6.071041e+05</td>\n",
       "      <td>6.729752e+06</td>\n",
       "      <td>9.736570e+00</td>\n",
       "    </tr>\n",
       "    <tr>\n",
       "      <td>MINUTE</td>\n",
       "      <td>4.950307</td>\n",
       "      <td>-0.233970</td>\n",
       "      <td>0.524992</td>\n",
       "      <td>1.572766e+01</td>\n",
       "      <td>3.331680e+02</td>\n",
       "      <td>7.579526e+05</td>\n",
       "      <td>8.396774e+06</td>\n",
       "      <td>-1.440788e+01</td>\n",
       "    </tr>\n",
       "    <tr>\n",
       "      <td>X</td>\n",
       "      <td>-2067.760789</td>\n",
       "      <td>1765.824368</td>\n",
       "      <td>-5141.743294</td>\n",
       "      <td>6.071041e+05</td>\n",
       "      <td>7.579526e+05</td>\n",
       "      <td>2.179385e+10</td>\n",
       "      <td>2.415262e+11</td>\n",
       "      <td>1.918065e+05</td>\n",
       "    </tr>\n",
       "    <tr>\n",
       "      <td>Y</td>\n",
       "      <td>-22442.218459</td>\n",
       "      <td>18892.601336</td>\n",
       "      <td>-57585.616815</td>\n",
       "      <td>6.729752e+06</td>\n",
       "      <td>8.396774e+06</td>\n",
       "      <td>2.415262e+11</td>\n",
       "      <td>2.677510e+12</td>\n",
       "      <td>2.141703e+06</td>\n",
       "    </tr>\n",
       "    <tr>\n",
       "      <td>Crimes_Per_Day</td>\n",
       "      <td>-49.575490</td>\n",
       "      <td>2.944784</td>\n",
       "      <td>-29.575081</td>\n",
       "      <td>9.736570e+00</td>\n",
       "      <td>-1.440788e+01</td>\n",
       "      <td>1.918065e+05</td>\n",
       "      <td>2.141703e+06</td>\n",
       "      <td>9.568631e+02</td>\n",
       "    </tr>\n",
       "  </tbody>\n",
       "</table>\n",
       "</div>"
      ],
      "text/plain": [
       "                        YEAR         MONTH           DAY          HOUR  \\\n",
       "YEAR               26.694373     -0.030456     -0.366439 -2.743058e-01   \n",
       "MONTH              -0.030456     11.483319      0.195077  5.492409e-02   \n",
       "DAY                -0.366439      0.195077     76.461510  1.250464e-01   \n",
       "HOUR               -0.274306      0.054924      0.125046  5.795449e+01   \n",
       "MINUTE              4.950307     -0.233970      0.524992  1.572766e+01   \n",
       "X               -2067.760789   1765.824368  -5141.743294  6.071041e+05   \n",
       "Y              -22442.218459  18892.601336 -57585.616815  6.729752e+06   \n",
       "Crimes_Per_Day    -49.575490      2.944784    -29.575081  9.736570e+00   \n",
       "\n",
       "                      MINUTE             X             Y  Crimes_Per_Day  \n",
       "YEAR            4.950307e+00 -2.067761e+03 -2.244222e+04   -4.957549e+01  \n",
       "MONTH          -2.339704e-01  1.765824e+03  1.889260e+04    2.944784e+00  \n",
       "DAY             5.249924e-01 -5.141743e+03 -5.758562e+04   -2.957508e+01  \n",
       "HOUR            1.572766e+01  6.071041e+05  6.729752e+06    9.736570e+00  \n",
       "MINUTE          3.331680e+02  7.579526e+05  8.396774e+06   -1.440788e+01  \n",
       "X               7.579526e+05  2.179385e+10  2.415262e+11    1.918065e+05  \n",
       "Y               8.396774e+06  2.415262e+11  2.677510e+12    2.141703e+06  \n",
       "Crimes_Per_Day -1.440788e+01  1.918065e+05  2.141703e+06    9.568631e+02  "
      ]
     },
     "execution_count": 208,
     "metadata": {},
     "output_type": "execute_result"
    }
   ],
   "source": [
    "cov3=crime_data.cov()\n",
    "cov3"
   ]
  },
  {
   "cell_type": "code",
   "execution_count": 209,
   "metadata": {},
   "outputs": [
    {
     "data": {
      "text/html": [
       "<div>\n",
       "<style scoped>\n",
       "    .dataframe tbody tr th:only-of-type {\n",
       "        vertical-align: middle;\n",
       "    }\n",
       "\n",
       "    .dataframe tbody tr th {\n",
       "        vertical-align: top;\n",
       "    }\n",
       "\n",
       "    .dataframe thead th {\n",
       "        text-align: right;\n",
       "    }\n",
       "</style>\n",
       "<table border=\"1\" class=\"dataframe\">\n",
       "  <thead>\n",
       "    <tr style=\"text-align: right;\">\n",
       "      <th></th>\n",
       "      <th>TYPE</th>\n",
       "      <th>YEAR</th>\n",
       "      <th>MONTH</th>\n",
       "      <th>DAY</th>\n",
       "      <th>HOUR</th>\n",
       "      <th>MINUTE</th>\n",
       "      <th>HUNDRED_BLOCK</th>\n",
       "      <th>NEIGHBOURHOOD</th>\n",
       "      <th>X</th>\n",
       "      <th>Y</th>\n",
       "      <th>TIME</th>\n",
       "      <th>Crimes_Per_Day</th>\n",
       "      <th>MONYEAR</th>\n",
       "    </tr>\n",
       "  </thead>\n",
       "  <tbody>\n",
       "    <tr>\n",
       "      <td>476428</td>\n",
       "      <td>Theft from Vehicle</td>\n",
       "      <td>2003</td>\n",
       "      <td>1</td>\n",
       "      <td>1</td>\n",
       "      <td>21</td>\n",
       "      <td>21</td>\n",
       "      <td>81XX POPLAR ST</td>\n",
       "      <td>Sunset</td>\n",
       "      <td>493210.070208</td>\n",
       "      <td>5.451005e+06</td>\n",
       "      <td>01012003</td>\n",
       "      <td>194</td>\n",
       "      <td>12003</td>\n",
       "    </tr>\n",
       "    <tr>\n",
       "      <td>565975</td>\n",
       "      <td>Theft of Vehicle</td>\n",
       "      <td>2003</td>\n",
       "      <td>1</td>\n",
       "      <td>1</td>\n",
       "      <td>13</td>\n",
       "      <td>30</td>\n",
       "      <td>18XX VINE ST</td>\n",
       "      <td>Kitsilano</td>\n",
       "      <td>488550.900860</td>\n",
       "      <td>5.457475e+06</td>\n",
       "      <td>01012003</td>\n",
       "      <td>194</td>\n",
       "      <td>12003</td>\n",
       "    </tr>\n",
       "    <tr>\n",
       "      <td>333294</td>\n",
       "      <td>Theft from Vehicle</td>\n",
       "      <td>2003</td>\n",
       "      <td>1</td>\n",
       "      <td>1</td>\n",
       "      <td>1</td>\n",
       "      <td>30</td>\n",
       "      <td>12XX ALBERNI ST</td>\n",
       "      <td>West End</td>\n",
       "      <td>490830.087564</td>\n",
       "      <td>5.459359e+06</td>\n",
       "      <td>01012003</td>\n",
       "      <td>194</td>\n",
       "      <td>12003</td>\n",
       "    </tr>\n",
       "    <tr>\n",
       "      <td>153463</td>\n",
       "      <td>Mischief</td>\n",
       "      <td>2003</td>\n",
       "      <td>1</td>\n",
       "      <td>1</td>\n",
       "      <td>1</td>\n",
       "      <td>46</td>\n",
       "      <td>45XX MAIN ST</td>\n",
       "      <td>Riley Park</td>\n",
       "      <td>492627.838215</td>\n",
       "      <td>5.454544e+06</td>\n",
       "      <td>01012003</td>\n",
       "      <td>194</td>\n",
       "      <td>12003</td>\n",
       "    </tr>\n",
       "    <tr>\n",
       "      <td>218780</td>\n",
       "      <td>Offence Against a Person</td>\n",
       "      <td>2003</td>\n",
       "      <td>1</td>\n",
       "      <td>1</td>\n",
       "      <td>0</td>\n",
       "      <td>0</td>\n",
       "      <td>OFFSET TO PROTECT PRIVACY</td>\n",
       "      <td>NaN</td>\n",
       "      <td>0.000000</td>\n",
       "      <td>0.000000e+00</td>\n",
       "      <td>01012003</td>\n",
       "      <td>194</td>\n",
       "      <td>12003</td>\n",
       "    </tr>\n",
       "  </tbody>\n",
       "</table>\n",
       "</div>"
      ],
      "text/plain": [
       "                            TYPE  YEAR  MONTH  DAY  HOUR  MINUTE  \\\n",
       "476428        Theft from Vehicle  2003      1    1    21      21   \n",
       "565975          Theft of Vehicle  2003      1    1    13      30   \n",
       "333294        Theft from Vehicle  2003      1    1     1      30   \n",
       "153463                  Mischief  2003      1    1     1      46   \n",
       "218780  Offence Against a Person  2003      1    1     0       0   \n",
       "\n",
       "                    HUNDRED_BLOCK NEIGHBOURHOOD              X             Y  \\\n",
       "476428             81XX POPLAR ST        Sunset  493210.070208  5.451005e+06   \n",
       "565975               18XX VINE ST     Kitsilano  488550.900860  5.457475e+06   \n",
       "333294            12XX ALBERNI ST      West End  490830.087564  5.459359e+06   \n",
       "153463               45XX MAIN ST    Riley Park  492627.838215  5.454544e+06   \n",
       "218780  OFFSET TO PROTECT PRIVACY           NaN       0.000000  0.000000e+00   \n",
       "\n",
       "            TIME  Crimes_Per_Day MONYEAR  \n",
       "476428  01012003             194   12003  \n",
       "565975  01012003             194   12003  \n",
       "333294  01012003             194   12003  \n",
       "153463  01012003             194   12003  \n",
       "218780  01012003             194   12003  "
      ]
     },
     "execution_count": 209,
     "metadata": {},
     "output_type": "execute_result"
    }
   ],
   "source": [
    "crime_data['MONYEAR'] = crime_data['MONTH'].map(str) + crime_data['YEAR'].map(str)#creating a new column and combining month and year\n",
    "crime_data.head()"
   ]
  },
  {
   "cell_type": "code",
   "execution_count": 210,
   "metadata": {},
   "outputs": [
    {
     "data": {
      "text/html": [
       "<div>\n",
       "<style scoped>\n",
       "    .dataframe tbody tr th:only-of-type {\n",
       "        vertical-align: middle;\n",
       "    }\n",
       "\n",
       "    .dataframe tbody tr th {\n",
       "        vertical-align: top;\n",
       "    }\n",
       "\n",
       "    .dataframe thead th {\n",
       "        text-align: right;\n",
       "    }\n",
       "</style>\n",
       "<table border=\"1\" class=\"dataframe\">\n",
       "  <thead>\n",
       "    <tr style=\"text-align: right;\">\n",
       "      <th></th>\n",
       "      <th>TYPE</th>\n",
       "      <th>YEAR</th>\n",
       "      <th>MONTH</th>\n",
       "      <th>DAY</th>\n",
       "      <th>HOUR</th>\n",
       "      <th>MINUTE</th>\n",
       "      <th>HUNDRED_BLOCK</th>\n",
       "      <th>NEIGHBOURHOOD</th>\n",
       "      <th>X</th>\n",
       "      <th>Y</th>\n",
       "      <th>TIME</th>\n",
       "      <th>Crimes_Per_Day</th>\n",
       "      <th>MONYEAR</th>\n",
       "      <th>Crimes_Per_MONYEAR</th>\n",
       "    </tr>\n",
       "  </thead>\n",
       "  <tbody>\n",
       "    <tr>\n",
       "      <td>476428</td>\n",
       "      <td>Theft from Vehicle</td>\n",
       "      <td>2003</td>\n",
       "      <td>1</td>\n",
       "      <td>1</td>\n",
       "      <td>21</td>\n",
       "      <td>21</td>\n",
       "      <td>81XX POPLAR ST</td>\n",
       "      <td>Sunset</td>\n",
       "      <td>493210.070208</td>\n",
       "      <td>5.451005e+06</td>\n",
       "      <td>01012003</td>\n",
       "      <td>194</td>\n",
       "      <td>12003</td>\n",
       "      <td>4410</td>\n",
       "    </tr>\n",
       "    <tr>\n",
       "      <td>565975</td>\n",
       "      <td>Theft of Vehicle</td>\n",
       "      <td>2003</td>\n",
       "      <td>1</td>\n",
       "      <td>1</td>\n",
       "      <td>13</td>\n",
       "      <td>30</td>\n",
       "      <td>18XX VINE ST</td>\n",
       "      <td>Kitsilano</td>\n",
       "      <td>488550.900860</td>\n",
       "      <td>5.457475e+06</td>\n",
       "      <td>01012003</td>\n",
       "      <td>194</td>\n",
       "      <td>12003</td>\n",
       "      <td>4410</td>\n",
       "    </tr>\n",
       "    <tr>\n",
       "      <td>333294</td>\n",
       "      <td>Theft from Vehicle</td>\n",
       "      <td>2003</td>\n",
       "      <td>1</td>\n",
       "      <td>1</td>\n",
       "      <td>1</td>\n",
       "      <td>30</td>\n",
       "      <td>12XX ALBERNI ST</td>\n",
       "      <td>West End</td>\n",
       "      <td>490830.087564</td>\n",
       "      <td>5.459359e+06</td>\n",
       "      <td>01012003</td>\n",
       "      <td>194</td>\n",
       "      <td>12003</td>\n",
       "      <td>4410</td>\n",
       "    </tr>\n",
       "    <tr>\n",
       "      <td>153463</td>\n",
       "      <td>Mischief</td>\n",
       "      <td>2003</td>\n",
       "      <td>1</td>\n",
       "      <td>1</td>\n",
       "      <td>1</td>\n",
       "      <td>46</td>\n",
       "      <td>45XX MAIN ST</td>\n",
       "      <td>Riley Park</td>\n",
       "      <td>492627.838215</td>\n",
       "      <td>5.454544e+06</td>\n",
       "      <td>01012003</td>\n",
       "      <td>194</td>\n",
       "      <td>12003</td>\n",
       "      <td>4410</td>\n",
       "    </tr>\n",
       "    <tr>\n",
       "      <td>218780</td>\n",
       "      <td>Offence Against a Person</td>\n",
       "      <td>2003</td>\n",
       "      <td>1</td>\n",
       "      <td>1</td>\n",
       "      <td>0</td>\n",
       "      <td>0</td>\n",
       "      <td>OFFSET TO PROTECT PRIVACY</td>\n",
       "      <td>NaN</td>\n",
       "      <td>0.000000</td>\n",
       "      <td>0.000000e+00</td>\n",
       "      <td>01012003</td>\n",
       "      <td>194</td>\n",
       "      <td>12003</td>\n",
       "      <td>4410</td>\n",
       "    </tr>\n",
       "  </tbody>\n",
       "</table>\n",
       "</div>"
      ],
      "text/plain": [
       "                            TYPE  YEAR  MONTH  DAY  HOUR  MINUTE  \\\n",
       "476428        Theft from Vehicle  2003      1    1    21      21   \n",
       "565975          Theft of Vehicle  2003      1    1    13      30   \n",
       "333294        Theft from Vehicle  2003      1    1     1      30   \n",
       "153463                  Mischief  2003      1    1     1      46   \n",
       "218780  Offence Against a Person  2003      1    1     0       0   \n",
       "\n",
       "                    HUNDRED_BLOCK NEIGHBOURHOOD              X             Y  \\\n",
       "476428             81XX POPLAR ST        Sunset  493210.070208  5.451005e+06   \n",
       "565975               18XX VINE ST     Kitsilano  488550.900860  5.457475e+06   \n",
       "333294            12XX ALBERNI ST      West End  490830.087564  5.459359e+06   \n",
       "153463               45XX MAIN ST    Riley Park  492627.838215  5.454544e+06   \n",
       "218780  OFFSET TO PROTECT PRIVACY           NaN       0.000000  0.000000e+00   \n",
       "\n",
       "            TIME  Crimes_Per_Day MONYEAR  Crimes_Per_MONYEAR  \n",
       "476428  01012003             194   12003                4410  \n",
       "565975  01012003             194   12003                4410  \n",
       "333294  01012003             194   12003                4410  \n",
       "153463  01012003             194   12003                4410  \n",
       "218780  01012003             194   12003                4410  "
      ]
     },
     "execution_count": 210,
     "metadata": {},
     "output_type": "execute_result"
    }
   ],
   "source": [
    "crime_data['Crimes_Per_MONYEAR']=crime_data.groupby(['MONYEAR'])['MONYEAR'].transform('count') #adding a new column to count for crimes per month year\n",
    "crime_data.head()"
   ]
  },
  {
   "cell_type": "code",
   "execution_count": 211,
   "metadata": {},
   "outputs": [
    {
     "data": {
      "text/plain": [
       "Ttest_indResult(statistic=-93.63082247423927, pvalue=0.0)"
      ]
     },
     "execution_count": 211,
     "metadata": {},
     "output_type": "execute_result"
    }
   ],
   "source": [
    "cat1 = crime_data[(crime_data['MONTH']==12) | (crime_data['MONTH']==1) | (crime_data['MONTH']==2)]\n",
    "cat2 = crime_data[(crime_data['MONTH']!= 12) | (crime_data['MONTH']!=1) | (crime_data['MONTH']!=2)]\n",
    "\n",
    "ttest_ind(cat1['Crimes_Per_MONYEAR'], cat2['Crimes_Per_MONYEAR'])"
   ]
  },
  {
   "cell_type": "code",
   "execution_count": 212,
   "metadata": {},
   "outputs": [
    {
     "data": {
      "text/plain": [
       "0.0"
      ]
     },
     "execution_count": 212,
     "metadata": {},
     "output_type": "execute_result"
    }
   ],
   "source": [
    "class DiffMeansPermute(thinkstats2.HypothesisTest):\n",
    "\n",
    "    def TestStatistic(self, data):\n",
    "        group1, group2 = data\n",
    "        test_stat = abs(group1.mean() - group2.mean())\n",
    "        return test_stat\n",
    "\n",
    "    def MakeModel(self):\n",
    "        group1, group2 = self.data\n",
    "        self.n, self.m = len(group1), len(group2)\n",
    "        self.pool = np.hstack((group1, group2))\n",
    "\n",
    "    def RunModel(self):\n",
    "        np.random.shuffle(self.pool)\n",
    "        data = self.pool[:self.n], self.pool[self.n:]\n",
    "        return data\n",
    "\n",
    "data= cat1['Crimes_Per_MONYEAR'], cat2['Crimes_Per_MONYEAR']\n",
    "ht = DiffMeansPermute(data)\n",
    "pvalue = ht.PValue()\n",
    "pvalue"
   ]
  },
  {
   "cell_type": "markdown",
   "metadata": {},
   "source": [
    "Tried looking at the P value in two different ways, both show to be zero. Therefore, we can reject the null hypothesis of that there is no link between colder months and crime prevalence in Vancouver. It appears that colder months have less crime prevalence. "
   ]
  },
  {
   "cell_type": "code",
   "execution_count": 213,
   "metadata": {},
   "outputs": [
    {
     "name": "stdout",
     "output_type": "stream",
     "text": [
      "                                                     TYPE  YEAR  MONTH  DAY  \\\n",
      "228153                           Offence Against a Person  2003      1   16   \n",
      "192933                           Offence Against a Person  2003      1   25   \n",
      "416799                                 Theft from Vehicle  2003      1   25   \n",
      "437702                                 Theft from Vehicle  2003      1   25   \n",
      "569233                                   Theft of Vehicle  2003      1   25   \n",
      "...                                                   ...   ...    ...  ...   \n",
      "270542                                        Other Theft  2018     12    3   \n",
      "611875  Vehicle Collision or Pedestrian Struck (with I...  2018     12    2   \n",
      "306034                                        Other Theft  2018     12   11   \n",
      "140712                                           Mischief  2018     12   29   \n",
      "79969                   Break and Enter Residential/Other  2018     12   17   \n",
      "\n",
      "        HOUR  MINUTE              HUNDRED_BLOCK              NEIGHBOURHOOD  \\\n",
      "228153     0       0  OFFSET TO PROTECT PRIVACY                        NaN   \n",
      "192933     0       0  OFFSET TO PROTECT PRIVACY                        NaN   \n",
      "416799    23       0            36XX W 37TH AVE          Dunbar-Southlands   \n",
      "437702     1       0          52XX MELBOURNE ST        Renfrew-Collingwood   \n",
      "569233    20       0           21XX VENABLES ST         Grandview-Woodland   \n",
      "...      ...     ...                        ...                        ...   \n",
      "270542     7      59             23XX CAMBIE ST             Mount Pleasant   \n",
      "611875     9      59      22XX BLOCK E 41ST AVE        Victoria-Fraserview   \n",
      "306034    12      59           7XX GRANVILLE ST  Central Business District   \n",
      "140712    20      59           2XX E GEORGIA ST                 Strathcona   \n",
      "79969     12      59           3XX ALEXANDER ST                 Strathcona   \n",
      "\n",
      "                    X             Y      TIME  Crimes_Per_Day MONYEAR  \\\n",
      "228153       0.000000  0.000000e+00  16012003             128  012003   \n",
      "192933       0.000000  0.000000e+00  25012003             144  012003   \n",
      "416799  486504.507643  5.453990e+06  25012003             144  012003   \n",
      "437702  497909.174686  5.453684e+06  25012003             144  012003   \n",
      "569233  495515.246064  5.458204e+06  25012003             144  012003   \n",
      "...               ...           ...       ...             ...     ...   \n",
      "270542  491656.442922  5.456903e+06  03122018              77  122018   \n",
      "611875  495515.000000  5.453340e+06  02122018             106  122018   \n",
      "306034  491394.116601  5.458844e+06  11122018              91  122018   \n",
      "140712  492764.389207  5.458433e+06  29122018             132  122018   \n",
      "79969   492907.947226  5.459034e+06  17122018             127  122018   \n",
      "\n",
      "        Crimes_Per_MONYEAR     TIME HOUR  \n",
      "228153                4410  000000012003  \n",
      "192933                4410  000000012003  \n",
      "416799                4410  000000012003  \n",
      "437702                4410  000000012003  \n",
      "569233                4410  000000012003  \n",
      "...                    ...           ...  \n",
      "270542                3260  000059122018  \n",
      "611875                3260  000059122018  \n",
      "306034                3260  000059122018  \n",
      "140712                3260  000059122018  \n",
      "79969                 3260  000059122018  \n",
      "\n",
      "[624038 rows x 15 columns]\n"
     ]
    }
   ],
   "source": [
    "crime_data['MONYEAR'] = crime_data['MONYEAR'].apply('{:0>6}'.format) #Changing monyear format to 6 characters which adds the preceding 0 value to months that are single digits\n",
    "\n",
    "crime_data['TIME HOUR'] = crime_data['DAY'].map(str) + crime_data['MONYEAR'].map(str) #Adding Day to Time hour variable which will be used to scale down to specific minute\n",
    "crime_data['TIME HOUR'] = crime_data['TIME HOUR'].apply('{:0>8}'.format)\n",
    "\n",
    "crime_data['TIME HOUR'] = crime_data['HOUR'].map(str) + crime_data['MONYEAR'].map(str)\n",
    "crime_data['TIME HOUR'] = crime_data['TIME HOUR'].apply('{:0>10}'.format)\n",
    "\n",
    "crime_data['TIME HOUR'] = crime_data['MINUTE'].map(str) + crime_data['MONYEAR'].map(str)\n",
    "crime_data['TIME HOUR'] = crime_data['TIME HOUR'].apply('{:0>12}'.format)\n",
    "\n",
    "crime_data.sort_values(\"TIME HOUR\", inplace=True)\n",
    "print(crime_data)"
   ]
  },
  {
   "cell_type": "code",
   "execution_count": 214,
   "metadata": {},
   "outputs": [
    {
     "data": {
      "text/html": [
       "<div>\n",
       "<style scoped>\n",
       "    .dataframe tbody tr th:only-of-type {\n",
       "        vertical-align: middle;\n",
       "    }\n",
       "\n",
       "    .dataframe tbody tr th {\n",
       "        vertical-align: top;\n",
       "    }\n",
       "\n",
       "    .dataframe thead th {\n",
       "        text-align: right;\n",
       "    }\n",
       "</style>\n",
       "<table border=\"1\" class=\"dataframe\">\n",
       "  <thead>\n",
       "    <tr style=\"text-align: right;\">\n",
       "      <th></th>\n",
       "      <th>TYPE</th>\n",
       "      <th>YEAR</th>\n",
       "      <th>MONTH</th>\n",
       "      <th>DAY</th>\n",
       "      <th>HOUR</th>\n",
       "      <th>MINUTE</th>\n",
       "      <th>HUNDRED_BLOCK</th>\n",
       "      <th>NEIGHBOURHOOD</th>\n",
       "      <th>X</th>\n",
       "      <th>Y</th>\n",
       "      <th>TIME</th>\n",
       "      <th>Crimes_Per_Day</th>\n",
       "      <th>MONYEAR</th>\n",
       "      <th>Crimes_Per_MONYEAR</th>\n",
       "      <th>TIME HOUR</th>\n",
       "      <th>Crimes_Per_Minute</th>\n",
       "    </tr>\n",
       "  </thead>\n",
       "  <tbody>\n",
       "    <tr>\n",
       "      <td>228153</td>\n",
       "      <td>Offence Against a Person</td>\n",
       "      <td>2003</td>\n",
       "      <td>1</td>\n",
       "      <td>16</td>\n",
       "      <td>0</td>\n",
       "      <td>0</td>\n",
       "      <td>OFFSET TO PROTECT PRIVACY</td>\n",
       "      <td>NaN</td>\n",
       "      <td>0.000000</td>\n",
       "      <td>0.000000e+00</td>\n",
       "      <td>16012003</td>\n",
       "      <td>128</td>\n",
       "      <td>012003</td>\n",
       "      <td>4410</td>\n",
       "      <td>000000012003</td>\n",
       "      <td>2277</td>\n",
       "    </tr>\n",
       "    <tr>\n",
       "      <td>192933</td>\n",
       "      <td>Offence Against a Person</td>\n",
       "      <td>2003</td>\n",
       "      <td>1</td>\n",
       "      <td>25</td>\n",
       "      <td>0</td>\n",
       "      <td>0</td>\n",
       "      <td>OFFSET TO PROTECT PRIVACY</td>\n",
       "      <td>NaN</td>\n",
       "      <td>0.000000</td>\n",
       "      <td>0.000000e+00</td>\n",
       "      <td>25012003</td>\n",
       "      <td>144</td>\n",
       "      <td>012003</td>\n",
       "      <td>4410</td>\n",
       "      <td>000000012003</td>\n",
       "      <td>2277</td>\n",
       "    </tr>\n",
       "    <tr>\n",
       "      <td>416799</td>\n",
       "      <td>Theft from Vehicle</td>\n",
       "      <td>2003</td>\n",
       "      <td>1</td>\n",
       "      <td>25</td>\n",
       "      <td>23</td>\n",
       "      <td>0</td>\n",
       "      <td>36XX W 37TH AVE</td>\n",
       "      <td>Dunbar-Southlands</td>\n",
       "      <td>486504.507643</td>\n",
       "      <td>5.453990e+06</td>\n",
       "      <td>25012003</td>\n",
       "      <td>144</td>\n",
       "      <td>012003</td>\n",
       "      <td>4410</td>\n",
       "      <td>000000012003</td>\n",
       "      <td>2277</td>\n",
       "    </tr>\n",
       "    <tr>\n",
       "      <td>437702</td>\n",
       "      <td>Theft from Vehicle</td>\n",
       "      <td>2003</td>\n",
       "      <td>1</td>\n",
       "      <td>25</td>\n",
       "      <td>1</td>\n",
       "      <td>0</td>\n",
       "      <td>52XX MELBOURNE ST</td>\n",
       "      <td>Renfrew-Collingwood</td>\n",
       "      <td>497909.174686</td>\n",
       "      <td>5.453684e+06</td>\n",
       "      <td>25012003</td>\n",
       "      <td>144</td>\n",
       "      <td>012003</td>\n",
       "      <td>4410</td>\n",
       "      <td>000000012003</td>\n",
       "      <td>2277</td>\n",
       "    </tr>\n",
       "    <tr>\n",
       "      <td>569233</td>\n",
       "      <td>Theft of Vehicle</td>\n",
       "      <td>2003</td>\n",
       "      <td>1</td>\n",
       "      <td>25</td>\n",
       "      <td>20</td>\n",
       "      <td>0</td>\n",
       "      <td>21XX VENABLES ST</td>\n",
       "      <td>Grandview-Woodland</td>\n",
       "      <td>495515.246064</td>\n",
       "      <td>5.458204e+06</td>\n",
       "      <td>25012003</td>\n",
       "      <td>144</td>\n",
       "      <td>012003</td>\n",
       "      <td>4410</td>\n",
       "      <td>000000012003</td>\n",
       "      <td>2277</td>\n",
       "    </tr>\n",
       "  </tbody>\n",
       "</table>\n",
       "</div>"
      ],
      "text/plain": [
       "                            TYPE  YEAR  MONTH  DAY  HOUR  MINUTE  \\\n",
       "228153  Offence Against a Person  2003      1   16     0       0   \n",
       "192933  Offence Against a Person  2003      1   25     0       0   \n",
       "416799        Theft from Vehicle  2003      1   25    23       0   \n",
       "437702        Theft from Vehicle  2003      1   25     1       0   \n",
       "569233          Theft of Vehicle  2003      1   25    20       0   \n",
       "\n",
       "                    HUNDRED_BLOCK        NEIGHBOURHOOD              X  \\\n",
       "228153  OFFSET TO PROTECT PRIVACY                  NaN       0.000000   \n",
       "192933  OFFSET TO PROTECT PRIVACY                  NaN       0.000000   \n",
       "416799            36XX W 37TH AVE    Dunbar-Southlands  486504.507643   \n",
       "437702          52XX MELBOURNE ST  Renfrew-Collingwood  497909.174686   \n",
       "569233           21XX VENABLES ST   Grandview-Woodland  495515.246064   \n",
       "\n",
       "                   Y      TIME  Crimes_Per_Day MONYEAR  Crimes_Per_MONYEAR  \\\n",
       "228153  0.000000e+00  16012003             128  012003                4410   \n",
       "192933  0.000000e+00  25012003             144  012003                4410   \n",
       "416799  5.453990e+06  25012003             144  012003                4410   \n",
       "437702  5.453684e+06  25012003             144  012003                4410   \n",
       "569233  5.458204e+06  25012003             144  012003                4410   \n",
       "\n",
       "           TIME HOUR  Crimes_Per_Minute  \n",
       "228153  000000012003               2277  \n",
       "192933  000000012003               2277  \n",
       "416799  000000012003               2277  \n",
       "437702  000000012003               2277  \n",
       "569233  000000012003               2277  "
      ]
     },
     "execution_count": 214,
     "metadata": {},
     "output_type": "execute_result"
    }
   ],
   "source": [
    "crime_data['Crimes_Per_Minute']=crime_data.groupby(['TIME HOUR'])['TIME HOUR'].transform('count') #adding a new column to count for crimes per minute\n",
    "crime_data.head()"
   ]
  },
  {
   "cell_type": "code",
   "execution_count": 215,
   "metadata": {},
   "outputs": [
    {
     "data": {
      "image/png": "[encoded data removed]",
      "text/plain": [
       "<Figure size 432x288 with 1 Axes>"
      ]
     },
     "metadata": {
      "needs_background": "light"
     },
     "output_type": "display_data"
    }
   ],
   "source": [
    "Crime_Minute = crime_data[(crime_data['TYPE']==\"Theft from Vehicle\")] #Filtering down to specific crime\n",
    "Crime_Minute = Crime_Minute[(Crime_Minute['NEIGHBOURHOOD']==\"Central Business District\")] #Filtering down to specific neighbourhood\n",
    "Crime_Minute = Crime_Minute[(Crime_Minute['YEAR']==2019)] #Filtering down to specific year\n",
    "Crime_Minute = Crime_Minute[(Crime_Minute['Crimes_Per_Minute']<50)] #Taking out outliers, I just picked 60 as a reference\n",
    "Crime_Minute.sort_values(\"TIME HOUR\", inplace=True) #Sorting by time variable\n",
    "\n",
    "\n",
    "\n",
    "plt.scatter(Crime_Minute['TIME HOUR'], Crime_Minute.Crimes_Per_Minute) #Plotting scatterplot\n",
    "plt.xlabel('Time from Jan 2019 - December 2019')\n",
    "plt.ylabel('Crimes Per Minute')\n",
    "plt.tick_params(\n",
    "    axis='x',          \n",
    "    which='both',      \n",
    "    bottom=False,      \n",
    "    top=False,         \n",
    "    labelbottom=False)"
   ]
  },
  {
   "cell_type": "code",
   "execution_count": 216,
   "metadata": {},
   "outputs": [
    {
     "data": {
      "text/html": [
       "<table class=\"simpletable\">\n",
       "<caption>OLS Regression Results</caption>\n",
       "<tr>\n",
       "  <th>Dep. Variable:</th>    <td>Crimes_Per_Minute</td> <th>  R-squared:         </th> <td>   0.030</td>\n",
       "</tr>\n",
       "<tr>\n",
       "  <th>Model:</th>                   <td>OLS</td>        <th>  Adj. R-squared:    </th> <td>   0.027</td>\n",
       "</tr>\n",
       "<tr>\n",
       "  <th>Method:</th>             <td>Least Squares</td>   <th>  F-statistic:       </th> <td>   10.17</td>\n",
       "</tr>\n",
       "<tr>\n",
       "  <th>Date:</th>             <td>Sat, 29 Feb 2020</td>  <th>  Prob (F-statistic):</th> <td>4.15e-08</td>\n",
       "</tr>\n",
       "<tr>\n",
       "  <th>Time:</th>                 <td>22:15:58</td>      <th>  Log-Likelihood:    </th> <td> -4796.3</td>\n",
       "</tr>\n",
       "<tr>\n",
       "  <th>No. Observations:</th>      <td>  1331</td>       <th>  AIC:               </th> <td>   9603.</td>\n",
       "</tr>\n",
       "<tr>\n",
       "  <th>Df Residuals:</th>          <td>  1326</td>       <th>  BIC:               </th> <td>   9629.</td>\n",
       "</tr>\n",
       "<tr>\n",
       "  <th>Df Model:</th>              <td>     4</td>       <th>                     </th>     <td> </td>   \n",
       "</tr>\n",
       "<tr>\n",
       "  <th>Covariance Type:</th>      <td>nonrobust</td>     <th>                     </th>     <td> </td>   \n",
       "</tr>\n",
       "</table>\n",
       "<table class=\"simpletable\">\n",
       "<tr>\n",
       "      <td></td>         <th>coef</th>     <th>std err</th>      <th>t</th>      <th>P>|t|</th>  <th>[0.025</th>    <th>0.975]</th>  \n",
       "</tr>\n",
       "<tr>\n",
       "  <th>Intercept</th> <td>   24.0770</td> <td>    0.940</td> <td>   25.601</td> <td> 0.000</td> <td>   22.232</td> <td>   25.922</td>\n",
       "</tr>\n",
       "<tr>\n",
       "  <th>MINUTE</th>    <td>   -0.0756</td> <td>    0.014</td> <td>   -5.458</td> <td> 0.000</td> <td>   -0.103</td> <td>   -0.048</td>\n",
       "</tr>\n",
       "<tr>\n",
       "  <th>HOUR</th>      <td>    0.0832</td> <td>    0.038</td> <td>    2.210</td> <td> 0.027</td> <td>    0.009</td> <td>    0.157</td>\n",
       "</tr>\n",
       "<tr>\n",
       "  <th>DAY</th>       <td>    0.0398</td> <td>    0.029</td> <td>    1.370</td> <td> 0.171</td> <td>   -0.017</td> <td>    0.097</td>\n",
       "</tr>\n",
       "<tr>\n",
       "  <th>MONTH</th>     <td>    0.1363</td> <td>    0.077</td> <td>    1.770</td> <td> 0.077</td> <td>   -0.015</td> <td>    0.287</td>\n",
       "</tr>\n",
       "</table>\n",
       "<table class=\"simpletable\">\n",
       "<tr>\n",
       "  <th>Omnibus:</th>       <td>84.396</td> <th>  Durbin-Watson:     </th> <td>   0.380</td>\n",
       "</tr>\n",
       "<tr>\n",
       "  <th>Prob(Omnibus):</th> <td> 0.000</td> <th>  Jarque-Bera (JB):  </th> <td>  99.870</td>\n",
       "</tr>\n",
       "<tr>\n",
       "  <th>Skew:</th>          <td> 0.670</td> <th>  Prob(JB):          </th> <td>2.06e-22</td>\n",
       "</tr>\n",
       "<tr>\n",
       "  <th>Kurtosis:</th>      <td> 3.065</td> <th>  Cond. No.          </th> <td>    148.</td>\n",
       "</tr>\n",
       "</table><br/><br/>Warnings:<br/>[1] Standard Errors assume that the covariance matrix of the errors is correctly specified."
      ],
      "text/plain": [
       "<class 'statsmodels.iolib.summary.Summary'>\n",
       "\"\"\"\n",
       "                            OLS Regression Results                            \n",
       "==============================================================================\n",
       "Dep. Variable:      Crimes_Per_Minute   R-squared:                       0.030\n",
       "Model:                            OLS   Adj. R-squared:                  0.027\n",
       "Method:                 Least Squares   F-statistic:                     10.17\n",
       "Date:                Sat, 29 Feb 2020   Prob (F-statistic):           4.15e-08\n",
       "Time:                        22:15:58   Log-Likelihood:                -4796.3\n",
       "No. Observations:                1331   AIC:                             9603.\n",
       "Df Residuals:                    1326   BIC:                             9629.\n",
       "Df Model:                           4                                         \n",
       "Covariance Type:            nonrobust                                         \n",
       "==============================================================================\n",
       "                 coef    std err          t      P>|t|      [0.025      0.975]\n",
       "------------------------------------------------------------------------------\n",
       "Intercept     24.0770      0.940     25.601      0.000      22.232      25.922\n",
       "MINUTE        -0.0756      0.014     -5.458      0.000      -0.103      -0.048\n",
       "HOUR           0.0832      0.038      2.210      0.027       0.009       0.157\n",
       "DAY            0.0398      0.029      1.370      0.171      -0.017       0.097\n",
       "MONTH          0.1363      0.077      1.770      0.077      -0.015       0.287\n",
       "==============================================================================\n",
       "Omnibus:                       84.396   Durbin-Watson:                   0.380\n",
       "Prob(Omnibus):                  0.000   Jarque-Bera (JB):               99.870\n",
       "Skew:                           0.670   Prob(JB):                     2.06e-22\n",
       "Kurtosis:                       3.065   Cond. No.                         148.\n",
       "==============================================================================\n",
       "\n",
       "Warnings:\n",
       "[1] Standard Errors assume that the covariance matrix of the errors is correctly specified.\n",
       "\"\"\""
      ]
     },
     "execution_count": 216,
     "metadata": {},
     "output_type": "execute_result"
    }
   ],
   "source": [
    "minute_formula = 'Crimes_Per_Minute ~ MINUTE + HOUR + DAY + MONTH' #Multiple Regression Model\n",
    "minute_model = smf.ols(minute_formula, data=Crime_Minute) #Creating OLS model predicting how much crime is comitted per minute\n",
    "results = minute_model.fit()\n",
    "results.summary()"
   ]
  },
  {
   "cell_type": "markdown",
   "metadata": {},
   "source": [
    "The R squared value is very low meaning that this model doesn't fit very well with the data. We can't really predict how many crimes will occur based on time of day. Based on the p values MINUTE seems to stand out as a likely predictor"
   ]
  },
  {
   "cell_type": "code",
   "execution_count": null,
   "metadata": {},
   "outputs": [],
   "source": []
  }
 ],
 "metadata": {
  "kernelspec": {
   "display_name": "Python 3",
   "language": "python",
   "name": "python3"
  },
  "language_info": {
   "codemirror_mode": {
    "name": "ipython",
    "version": 3
   },
   "file_extension": ".py",
   "mimetype": "text/x-python",
   "name": "python",
   "nbconvert_exporter": "python",
   "pygments_lexer": "ipython3",
   "version": "3.7.4"
  }
 },
 "nbformat": 4,
 "nbformat_minor": 2
}
